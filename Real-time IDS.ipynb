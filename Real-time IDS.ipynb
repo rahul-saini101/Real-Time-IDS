{
 "cells": [
  {
   "cell_type": "markdown",
   "metadata": {},
   "source": [
    "<h2>Importing modules required for running the code</h2>"
   ]
  },
  {
   "cell_type": "code",
   "execution_count": 1,
   "metadata": {},
   "outputs": [
    {
     "name": "stderr",
     "output_type": "stream",
     "text": [
      "2022-05-08 14:30:18.716336: W tensorflow/stream_executor/platform/default/dso_loader.cc:64] Could not load dynamic library 'libcudart.so.11.0'; dlerror: libcudart.so.11.0: cannot open shared object file: No such file or directory\n",
      "2022-05-08 14:30:18.716362: I tensorflow/stream_executor/cuda/cudart_stub.cc:29] Ignore above cudart dlerror if you do not have a GPU set up on your machine.\n"
     ]
    }
   ],
   "source": [
    "import pandas as pd\n",
    "import numpy\n",
    "from sklearn.preprocessing import LabelEncoder, LabelBinarizer, StandardScaler\n",
    "from keras.utils.np_utils import to_categorical\n",
    "from sklearn.metrics import accuracy_score, classification_report\n",
    "\n",
    "from sklearn.metrics import roc_auc_score, roc_curve\n",
    "from sklearn.linear_model import LogisticRegression, SGDClassifier\n",
    "from sklearn.ensemble import RandomForestClassifier\n",
    "from sklearn.svm import SVC\n",
    "from sklearn.tree import DecisionTreeClassifier\n",
    "import matplotlib.pyplot as plt\n"
   ]
  },
  {
   "cell_type": "markdown",
   "metadata": {},
   "source": [
    "<h2>Columns Name for our testing and training data </h2>"
   ]
  },
  {
   "cell_type": "code",
   "execution_count": 6,
   "metadata": {},
   "outputs": [],
   "source": [
    "features = ['frame.encap_type',\n",
    " 'frame.len',\n",
    " 'frame.number',\n",
    " 'frame.time',\n",
    " 'frame.time_delta',\n",
    " 'frame.time_delta_displayed',\n",
    " 'frame.time_epoch',\n",
    " 'frame.time_relative',\n",
    " 'radiotap.channel.flags.cck',\n",
    " 'radiotap.channel.flags.ofdm',\n",
    " 'radiotap.channel.freq',\n",
    " 'radiotap.datarate',\n",
    " 'radiotap.dbm_antsignal',\n",
    " 'radiotap.length',\n",
    " 'radiotap.mactime',\n",
    " 'radiotap.present.tsft',\n",
    " 'radiotap.rxflags',\n",
    " 'radiotap.timestamp.ts',\n",
    " 'radiotap.vendor_oui',\n",
    " 'wlan.duration',\n",
    " 'wlan.analysis.kck',\n",
    " 'wlan.analysis.kek',\n",
    " 'wlan.bssid',\n",
    " 'wlan.country_info.fnm',\n",
    " 'wlan.country_info.code',\n",
    " 'wlan.da',\n",
    " 'wlan.fc.ds',\n",
    " 'wlan.fc.frag',\n",
    " 'wlan.fc.order',\n",
    " 'wlan.fc.moredata',\n",
    " 'wlan.fc.protected',\n",
    " 'wlan.fc.pwrmgt',\n",
    " 'wlan.fc.type',\n",
    " 'wlan.fc.retry',\n",
    " 'wlan.fc.subtype',\n",
    " 'wlan.fcs.bad_checksum',\n",
    " 'wlan.fixed.beacon',\n",
    " 'wlan.fixed.capabilities.ess',\n",
    " 'wlan.fixed.capabilities.ibss',\n",
    " 'wlan.fixed.reason_code',\n",
    " 'wlan.fixed.timestamp',\n",
    " 'wlan.ra',\n",
    " 'wlan_radio.duration',\n",
    " 'wlan.rsn.ie.gtk.key',\n",
    " 'wlan.rsn.ie.igtk.key',\n",
    " 'wlan.rsn.ie.pmkid',\n",
    " 'wlan.sa',\n",
    " 'wlan.seq',\n",
    " 'wlan.ssid',\n",
    " 'wlan.ta',\n",
    " 'wlan.tag',\n",
    " 'wlan.tag.length',\n",
    " 'wlan_radio.channel',\n",
    " 'wlan_radio.data_rate',\n",
    " 'wlan_radio.end_tsf',\n",
    " 'wlan_radio.frequency',\n",
    " 'wlan_radio.signal_dbm',\n",
    " 'wlan_radio.start_tsf',\n",
    " 'wlan_radio.phy',\n",
    " 'wlan_radio.timestamp',\n",
    " 'wlan.rsn.capabilities.mfpc',\n",
    " 'wlan_rsna_eapol.keydes.msgnr',\n",
    " 'wlan_rsna_eapol.keydes.data',\n",
    " 'wlan_rsna_eapol.keydes.data_len',\n",
    " 'wlan_rsna_eapol.keydes.key_info.key_mic',\n",
    " 'wlan_rsna_eapol.keydes.nonce',\n",
    " 'eapol.keydes.key_len',\n",
    " 'eapol.keydes.replay_counter',\n",
    " 'eapol.len',\n",
    " 'eapol.type',\n",
    " 'llc',\n",
    " 'arp',\n",
    " 'arp.hw.type',\n",
    " 'arp.proto.type',\n",
    " 'arp.hw.size',\n",
    " 'arp.proto.size',\n",
    " 'arp.opcode',\n",
    " 'arp.src.hw_mac',\n",
    " 'arp.src.proto_ipv4',\n",
    " 'arp.dst.hw_mac',\n",
    " 'arp.dst.proto_ipv4',\n",
    " 'ip.dst',\n",
    " 'ip.proto',\n",
    " 'ip.src',\n",
    " 'ip.ttl',\n",
    " 'ip.version',\n",
    " 'data.data',\n",
    " 'data.len',\n",
    " 'icmpv6.mldr.nb_mcast_records',\n",
    " 'icmpv6.ni.nonce',\n",
    " 'tcp.ack',\n",
    " 'tcp.ack_raw',\n",
    " 'tcp.analysis',\n",
    " 'tcp.analysis.flags',\n",
    " 'tcp.analysis.retransmission',\n",
    " 'tcp.analysis.reused_ports',\n",
    " 'tcp.analysis.rto_frame',\n",
    " 'tcp.checksum',\n",
    " 'tcp.checksum.status',\n",
    " 'tcp.dstport',\n",
    " 'tcp.flags.syn',\n",
    " 'tcp.flags.ack',\n",
    " 'tcp.flags.fin',\n",
    " 'tcp.flags.push',\n",
    " 'tcp.flags.reset',\n",
    " 'tcp.option_len',\n",
    " 'tcp.payload',\n",
    " 'tcp.seq',\n",
    " 'tcp.seq_raw',\n",
    " 'tcp.srcport',\n",
    " 'tcp.time_delta',\n",
    " 'tcp.time_relative',\n",
    " 'udp.dstport',\n",
    " 'udp.srcport',\n",
    " 'udp.length',\n",
    " 'udp.time_relative',\n",
    " 'udp.time_delta',\n",
    " 'nbns',\n",
    " 'nbss.continuation_data',\n",
    " 'nbss.type',\n",
    " 'nbss.length',\n",
    " 'ldap',\n",
    " 'smb.access.generic_execute',\n",
    " 'smb.access.generic_read',\n",
    " 'smb.access.generic_write',\n",
    " 'smb.flags.notify',\n",
    " 'smb.flags.response',\n",
    " 'smb.flags2.nt_error',\n",
    " 'smb.flags2.sec_sig',\n",
    " 'smb.mid',\n",
    " 'smb.nt_status',\n",
    " 'smb.server_component',\n",
    " 'smb.pid.high',\n",
    " 'smb.tid',\n",
    " 'smb2.acct',\n",
    " 'smb2.auth_frame',\n",
    " 'smb2.buffer_code',\n",
    " 'smb2.cmd',\n",
    " 'smb2.data_offset',\n",
    " 'smb2.domain',\n",
    " 'smb2.fid',\n",
    " 'smb2.filename',\n",
    " 'smb2.header_len',\n",
    " 'smb2.host',\n",
    " 'smb2.msg_id',\n",
    " 'smb2.pid',\n",
    " 'smb2.previous_sesid',\n",
    " 'smb2.protocol_id',\n",
    " 'smb2.sesid',\n",
    " 'smb2.session_flags',\n",
    " 'smb2.tid',\n",
    " 'smb2.write_length',\n",
    " 'dhcp',\n",
    " 'dhcp.client_id.duid_ll_hw_type',\n",
    " 'dhcp.cookie',\n",
    " 'dhcp.hw.addr_padding',\n",
    " 'dhcp.hw.mac_addr',\n",
    " 'dhcp.id',\n",
    " 'dhcp.ip.client',\n",
    " 'dhcp.ip.relay',\n",
    " 'dhcp.ip.server',\n",
    " 'dhcp.option.broadcast_address',\n",
    " 'dhcp.option.dhcp_server_id',\n",
    " 'dhcp.option.router',\n",
    " 'dhcp.option.vendor.bsdp.message_type',\n",
    " 'mdns',\n",
    " 'dns',\n",
    " 'dns.a',\n",
    " 'dns.count.add_rr',\n",
    " 'dns.count.answers',\n",
    " 'dns.count.auth_rr',\n",
    " 'dns.count.labels',\n",
    " 'dns.count.queries',\n",
    " 'dns.flags.authoritative',\n",
    " 'dns.flags.checkdisable',\n",
    " 'dns.flags.opcode',\n",
    " 'dns.flags.response',\n",
    " 'dns.id',\n",
    " 'dns.ptr.domain_name',\n",
    " 'dns.qry.name',\n",
    " 'dns.qry.name.len',\n",
    " 'dns.resp.len',\n",
    " 'dns.resp.name',\n",
    " 'dns.resp.ttl',\n",
    " 'dns.retransmit_request',\n",
    " 'dns.retransmit_response',\n",
    " 'dns.time',\n",
    " 'ssdp',\n",
    " 'http.connection',\n",
    " 'http.content_length',\n",
    " 'http.content_type',\n",
    " 'http.date',\n",
    " 'http.file_data',\n",
    " 'http.host',\n",
    " 'http.last_modified',\n",
    " 'http.location',\n",
    " 'http.next_request_in',\n",
    " 'http.next_response_in',\n",
    " 'http.request.full_uri',\n",
    " 'http.request.line',\n",
    " 'http.request.method',\n",
    " 'http.request.uri.path',\n",
    " 'http.request.uri.query',\n",
    " 'http.request.uri.query.parameter',\n",
    " 'http.request.version',\n",
    " 'http.request_in',\n",
    " 'http.response.code',\n",
    " 'http.response.code.desc',\n",
    " 'http.response.line',\n",
    " 'http.response.phrase',\n",
    " 'http.response.version',\n",
    " 'http.response_for.uri',\n",
    " 'http.response_in',\n",
    " 'http.referer',\n",
    " 'http.time',\n",
    " 'http.server',\n",
    " 'json.value.string',\n",
    " 'json.key',\n",
    " 'ssh.cookie',\n",
    " 'ssh.compression_algorithms_client_to_server_length',\n",
    " 'ssh.compression_algorithms_server_to_client_length',\n",
    " 'ssh.direction',\n",
    " 'ssh.dh_gex.max',\n",
    " 'ssh.dh_gex.min',\n",
    " 'ssh.dh_gex.nbits',\n",
    " 'ssh.encryption_algorithms_client_to_server_length',\n",
    " 'ssh.encryption_algorithms_server_to_client_length',\n",
    " 'ssh.host_key.length',\n",
    " 'ssh.host_key.type_length',\n",
    " 'ssh.kex_algorithms_length',\n",
    " 'ssh.mac_algorithms_client_to_server_length',\n",
    " 'ssh.mac_algorithms_server_to_client_length',\n",
    " 'ssh.message_code',\n",
    " 'ssh.mpint_length',\n",
    " 'ssh.packet_length',\n",
    " 'ssh.packet_length_encrypted',\n",
    " 'ssh.padding_length',\n",
    " 'ssh.padding_string',\n",
    " 'ssh.protocol',\n",
    " 'ssh.server_host_key_algorithms_length',\n",
    " 'tls.alert_message.desc',\n",
    " 'tls.alert_message.level',\n",
    " 'tls.compress_certificate.compressed_certificate_message.length',\n",
    " 'tls.handshake.extension.type',\n",
    " 'tls.handshake.extensions_key_share_group',\n",
    " 'tls.handshake.session_ticket_length',\n",
    " 'tls.handshake.version',\n",
    " 'tls.record.content_type',\n",
    " 'tls.record.version']"
   ]
  },
  {
   "cell_type": "markdown",
   "metadata": {},
   "source": [
    "<h2> Training Dataset </h2>"
   ]
  },
  {
   "cell_type": "code",
   "execution_count": 5,
   "metadata": {},
   "outputs": [],
   "source": [
    "data = pd.read_csv(\"merged_full.csv\", low_memory=False)"
   ]
  },
  {
   "cell_type": "code",
   "execution_count": 7,
   "metadata": {},
   "outputs": [
    {
     "data": {
      "text/plain": [
       "Normal          4517300\n",
       "Beacon Flood    2667248\n",
       "Deauth           752070\n",
       "RogueAP           50258\n",
       "Krack             16009\n",
       "Evil_Twin         10017\n",
       "Name: Label, dtype: int64"
      ]
     },
     "execution_count": 7,
     "metadata": {},
     "output_type": "execute_result"
    }
   ],
   "source": [
    "data['Label'].value_counts()"
   ]
  },
  {
   "cell_type": "code",
   "execution_count": 8,
   "metadata": {},
   "outputs": [
    {
     "data": {
      "text/plain": [
       "Index(['Unnamed: 0', 'frame.encap_type', 'frame.len', 'frame.number',\n",
       "       'frame.time', 'frame.time_delta', 'frame.time_delta_displayed',\n",
       "       'frame.time_epoch', 'frame.time_relative', 'radiotap.channel.flags.cck',\n",
       "       ...\n",
       "       'tls.alert_message.desc', 'tls.alert_message.level',\n",
       "       'tls.compress_certificate.compressed_certificate_message.length',\n",
       "       'tls.handshake.extension.type',\n",
       "       'tls.handshake.extensions_key_share_group',\n",
       "       'tls.handshake.session_ticket_length', 'tls.handshake.version',\n",
       "       'tls.record.content_type', 'tls.record.version', 'Label'],\n",
       "      dtype='object', length=251)"
      ]
     },
     "execution_count": 8,
     "metadata": {},
     "output_type": "execute_result"
    }
   ],
   "source": [
    "data.columns"
   ]
  },
  {
   "cell_type": "code",
   "execution_count": 9,
   "metadata": {},
   "outputs": [],
   "source": [
    "data = data.loc[:, ~data.columns.str.contains('^Unnamed')]"
   ]
  },
  {
   "cell_type": "markdown",
   "metadata": {},
   "source": [
    "<h2> Data Exploration</h2>"
   ]
  },
  {
   "cell_type": "code",
   "execution_count": 10,
   "metadata": {},
   "outputs": [
    {
     "data": {
      "text/html": [
       "<div>\n",
       "<style scoped>\n",
       "    .dataframe tbody tr th:only-of-type {\n",
       "        vertical-align: middle;\n",
       "    }\n",
       "\n",
       "    .dataframe tbody tr th {\n",
       "        vertical-align: top;\n",
       "    }\n",
       "\n",
       "    .dataframe thead th {\n",
       "        text-align: right;\n",
       "    }\n",
       "</style>\n",
       "<table border=\"1\" class=\"dataframe\">\n",
       "  <thead>\n",
       "    <tr style=\"text-align: right;\">\n",
       "      <th></th>\n",
       "      <th>frame.encap_type</th>\n",
       "      <th>frame.len</th>\n",
       "      <th>frame.number</th>\n",
       "      <th>frame.time</th>\n",
       "      <th>frame.time_delta</th>\n",
       "      <th>frame.time_delta_displayed</th>\n",
       "      <th>frame.time_epoch</th>\n",
       "      <th>frame.time_relative</th>\n",
       "      <th>radiotap.channel.flags.cck</th>\n",
       "      <th>radiotap.channel.flags.ofdm</th>\n",
       "      <th>...</th>\n",
       "      <th>tls.alert_message.desc</th>\n",
       "      <th>tls.alert_message.level</th>\n",
       "      <th>tls.compress_certificate.compressed_certificate_message.length</th>\n",
       "      <th>tls.handshake.extension.type</th>\n",
       "      <th>tls.handshake.extensions_key_share_group</th>\n",
       "      <th>tls.handshake.session_ticket_length</th>\n",
       "      <th>tls.handshake.version</th>\n",
       "      <th>tls.record.content_type</th>\n",
       "      <th>tls.record.version</th>\n",
       "      <th>Label</th>\n",
       "    </tr>\n",
       "  </thead>\n",
       "  <tbody>\n",
       "    <tr>\n",
       "      <th>0</th>\n",
       "      <td>23</td>\n",
       "      <td>400</td>\n",
       "      <td>1</td>\n",
       "      <td>Apr 11, 2022 07:40:59.212348809 IST</td>\n",
       "      <td>0.000000</td>\n",
       "      <td>0.000000</td>\n",
       "      <td>1.649643e+09</td>\n",
       "      <td>0.000000</td>\n",
       "      <td>1</td>\n",
       "      <td>0</td>\n",
       "      <td>...</td>\n",
       "      <td>NaN</td>\n",
       "      <td>NaN</td>\n",
       "      <td>NaN</td>\n",
       "      <td>NaN</td>\n",
       "      <td>NaN</td>\n",
       "      <td>NaN</td>\n",
       "      <td>NaN</td>\n",
       "      <td>NaN</td>\n",
       "      <td>NaN</td>\n",
       "      <td>Normal</td>\n",
       "    </tr>\n",
       "    <tr>\n",
       "      <th>1</th>\n",
       "      <td>23</td>\n",
       "      <td>400</td>\n",
       "      <td>2</td>\n",
       "      <td>Apr 11, 2022 07:40:59.314681063 IST</td>\n",
       "      <td>0.102332</td>\n",
       "      <td>0.102332</td>\n",
       "      <td>1.649643e+09</td>\n",
       "      <td>0.102332</td>\n",
       "      <td>1</td>\n",
       "      <td>0</td>\n",
       "      <td>...</td>\n",
       "      <td>NaN</td>\n",
       "      <td>NaN</td>\n",
       "      <td>NaN</td>\n",
       "      <td>NaN</td>\n",
       "      <td>NaN</td>\n",
       "      <td>NaN</td>\n",
       "      <td>NaN</td>\n",
       "      <td>NaN</td>\n",
       "      <td>NaN</td>\n",
       "      <td>Normal</td>\n",
       "    </tr>\n",
       "    <tr>\n",
       "      <th>2</th>\n",
       "      <td>23</td>\n",
       "      <td>400</td>\n",
       "      <td>3</td>\n",
       "      <td>Apr 11, 2022 07:40:59.417147425 IST</td>\n",
       "      <td>0.102466</td>\n",
       "      <td>0.102466</td>\n",
       "      <td>1.649643e+09</td>\n",
       "      <td>0.204799</td>\n",
       "      <td>1</td>\n",
       "      <td>0</td>\n",
       "      <td>...</td>\n",
       "      <td>NaN</td>\n",
       "      <td>NaN</td>\n",
       "      <td>NaN</td>\n",
       "      <td>NaN</td>\n",
       "      <td>NaN</td>\n",
       "      <td>NaN</td>\n",
       "      <td>NaN</td>\n",
       "      <td>NaN</td>\n",
       "      <td>NaN</td>\n",
       "      <td>Normal</td>\n",
       "    </tr>\n",
       "    <tr>\n",
       "      <th>3</th>\n",
       "      <td>23</td>\n",
       "      <td>400</td>\n",
       "      <td>4</td>\n",
       "      <td>Apr 11, 2022 07:40:59.519536327 IST</td>\n",
       "      <td>0.102389</td>\n",
       "      <td>0.102389</td>\n",
       "      <td>1.649643e+09</td>\n",
       "      <td>0.307188</td>\n",
       "      <td>1</td>\n",
       "      <td>0</td>\n",
       "      <td>...</td>\n",
       "      <td>NaN</td>\n",
       "      <td>NaN</td>\n",
       "      <td>NaN</td>\n",
       "      <td>NaN</td>\n",
       "      <td>NaN</td>\n",
       "      <td>NaN</td>\n",
       "      <td>NaN</td>\n",
       "      <td>NaN</td>\n",
       "      <td>NaN</td>\n",
       "      <td>Normal</td>\n",
       "    </tr>\n",
       "    <tr>\n",
       "      <th>4</th>\n",
       "      <td>23</td>\n",
       "      <td>400</td>\n",
       "      <td>5</td>\n",
       "      <td>Apr 11, 2022 07:40:59.621927854 IST</td>\n",
       "      <td>0.102392</td>\n",
       "      <td>0.102392</td>\n",
       "      <td>1.649643e+09</td>\n",
       "      <td>0.409579</td>\n",
       "      <td>1</td>\n",
       "      <td>0</td>\n",
       "      <td>...</td>\n",
       "      <td>NaN</td>\n",
       "      <td>NaN</td>\n",
       "      <td>NaN</td>\n",
       "      <td>NaN</td>\n",
       "      <td>NaN</td>\n",
       "      <td>NaN</td>\n",
       "      <td>NaN</td>\n",
       "      <td>NaN</td>\n",
       "      <td>NaN</td>\n",
       "      <td>Normal</td>\n",
       "    </tr>\n",
       "  </tbody>\n",
       "</table>\n",
       "<p>5 rows × 250 columns</p>\n",
       "</div>"
      ],
      "text/plain": [
       "   frame.encap_type  frame.len  frame.number  \\\n",
       "0                23        400             1   \n",
       "1                23        400             2   \n",
       "2                23        400             3   \n",
       "3                23        400             4   \n",
       "4                23        400             5   \n",
       "\n",
       "                            frame.time  frame.time_delta  \\\n",
       "0  Apr 11, 2022 07:40:59.212348809 IST          0.000000   \n",
       "1  Apr 11, 2022 07:40:59.314681063 IST          0.102332   \n",
       "2  Apr 11, 2022 07:40:59.417147425 IST          0.102466   \n",
       "3  Apr 11, 2022 07:40:59.519536327 IST          0.102389   \n",
       "4  Apr 11, 2022 07:40:59.621927854 IST          0.102392   \n",
       "\n",
       "   frame.time_delta_displayed  frame.time_epoch  frame.time_relative  \\\n",
       "0                    0.000000      1.649643e+09             0.000000   \n",
       "1                    0.102332      1.649643e+09             0.102332   \n",
       "2                    0.102466      1.649643e+09             0.204799   \n",
       "3                    0.102389      1.649643e+09             0.307188   \n",
       "4                    0.102392      1.649643e+09             0.409579   \n",
       "\n",
       "   radiotap.channel.flags.cck  radiotap.channel.flags.ofdm  ...  \\\n",
       "0                           1                            0  ...   \n",
       "1                           1                            0  ...   \n",
       "2                           1                            0  ...   \n",
       "3                           1                            0  ...   \n",
       "4                           1                            0  ...   \n",
       "\n",
       "   tls.alert_message.desc  tls.alert_message.level  \\\n",
       "0                     NaN                      NaN   \n",
       "1                     NaN                      NaN   \n",
       "2                     NaN                      NaN   \n",
       "3                     NaN                      NaN   \n",
       "4                     NaN                      NaN   \n",
       "\n",
       "   tls.compress_certificate.compressed_certificate_message.length  \\\n",
       "0                                                NaN                \n",
       "1                                                NaN                \n",
       "2                                                NaN                \n",
       "3                                                NaN                \n",
       "4                                                NaN                \n",
       "\n",
       "   tls.handshake.extension.type  tls.handshake.extensions_key_share_group  \\\n",
       "0                           NaN                                       NaN   \n",
       "1                           NaN                                       NaN   \n",
       "2                           NaN                                       NaN   \n",
       "3                           NaN                                       NaN   \n",
       "4                           NaN                                       NaN   \n",
       "\n",
       "  tls.handshake.session_ticket_length tls.handshake.version  \\\n",
       "0                                 NaN                   NaN   \n",
       "1                                 NaN                   NaN   \n",
       "2                                 NaN                   NaN   \n",
       "3                                 NaN                   NaN   \n",
       "4                                 NaN                   NaN   \n",
       "\n",
       "   tls.record.content_type  tls.record.version   Label  \n",
       "0                      NaN                 NaN  Normal  \n",
       "1                      NaN                 NaN  Normal  \n",
       "2                      NaN                 NaN  Normal  \n",
       "3                      NaN                 NaN  Normal  \n",
       "4                      NaN                 NaN  Normal  \n",
       "\n",
       "[5 rows x 250 columns]"
      ]
     },
     "execution_count": 10,
     "metadata": {},
     "output_type": "execute_result"
    }
   ],
   "source": [
    "data.head()"
   ]
  },
  {
   "cell_type": "code",
   "execution_count": 11,
   "metadata": {},
   "outputs": [
    {
     "data": {
      "text/html": [
       "<div>\n",
       "<style scoped>\n",
       "    .dataframe tbody tr th:only-of-type {\n",
       "        vertical-align: middle;\n",
       "    }\n",
       "\n",
       "    .dataframe tbody tr th {\n",
       "        vertical-align: top;\n",
       "    }\n",
       "\n",
       "    .dataframe thead th {\n",
       "        text-align: right;\n",
       "    }\n",
       "</style>\n",
       "<table border=\"1\" class=\"dataframe\">\n",
       "  <thead>\n",
       "    <tr style=\"text-align: right;\">\n",
       "      <th></th>\n",
       "      <th>frame.encap_type</th>\n",
       "      <th>frame.len</th>\n",
       "      <th>frame.number</th>\n",
       "      <th>frame.time_delta</th>\n",
       "      <th>frame.time_delta_displayed</th>\n",
       "      <th>frame.time_epoch</th>\n",
       "      <th>frame.time_relative</th>\n",
       "      <th>radiotap.channel.flags.cck</th>\n",
       "      <th>radiotap.channel.flags.ofdm</th>\n",
       "      <th>radiotap.channel.freq</th>\n",
       "      <th>...</th>\n",
       "      <th>ssh.mpint_length</th>\n",
       "      <th>ssh.packet_length</th>\n",
       "      <th>ssh.packet_length_encrypted</th>\n",
       "      <th>ssh.padding_length</th>\n",
       "      <th>ssh.padding_string</th>\n",
       "      <th>ssh.protocol</th>\n",
       "      <th>ssh.server_host_key_algorithms_length</th>\n",
       "      <th>tls.alert_message.desc</th>\n",
       "      <th>tls.alert_message.level</th>\n",
       "      <th>tls.compress_certificate.compressed_certificate_message.length</th>\n",
       "    </tr>\n",
       "  </thead>\n",
       "  <tbody>\n",
       "    <tr>\n",
       "      <th>count</th>\n",
       "      <td>8012902.0</td>\n",
       "      <td>8.012902e+06</td>\n",
       "      <td>8.012902e+06</td>\n",
       "      <td>8.012902e+06</td>\n",
       "      <td>8.012902e+06</td>\n",
       "      <td>8.012902e+06</td>\n",
       "      <td>8.012902e+06</td>\n",
       "      <td>8.012902e+06</td>\n",
       "      <td>8.012902e+06</td>\n",
       "      <td>8.012902e+06</td>\n",
       "      <td>...</td>\n",
       "      <td>0.0</td>\n",
       "      <td>0.0</td>\n",
       "      <td>0.0</td>\n",
       "      <td>0.0</td>\n",
       "      <td>0.0</td>\n",
       "      <td>0.0</td>\n",
       "      <td>0.0</td>\n",
       "      <td>10.000000</td>\n",
       "      <td>10.000000</td>\n",
       "      <td>1.0</td>\n",
       "    </tr>\n",
       "    <tr>\n",
       "      <th>mean</th>\n",
       "      <td>23.0</td>\n",
       "      <td>4.957776e+02</td>\n",
       "      <td>9.977895e+05</td>\n",
       "      <td>9.753703e-03</td>\n",
       "      <td>9.753703e-03</td>\n",
       "      <td>1.648966e+09</td>\n",
       "      <td>8.088158e+03</td>\n",
       "      <td>5.667672e-01</td>\n",
       "      <td>1.423543e-01</td>\n",
       "      <td>2.453811e+03</td>\n",
       "      <td>...</td>\n",
       "      <td>NaN</td>\n",
       "      <td>NaN</td>\n",
       "      <td>NaN</td>\n",
       "      <td>NaN</td>\n",
       "      <td>NaN</td>\n",
       "      <td>NaN</td>\n",
       "      <td>NaN</td>\n",
       "      <td>13.800000</td>\n",
       "      <td>1.300000</td>\n",
       "      <td>1496.0</td>\n",
       "    </tr>\n",
       "    <tr>\n",
       "      <th>std</th>\n",
       "      <td>0.0</td>\n",
       "      <td>5.701087e+02</td>\n",
       "      <td>6.014911e+05</td>\n",
       "      <td>1.728864e-02</td>\n",
       "      <td>1.728864e-02</td>\n",
       "      <td>5.670425e+06</td>\n",
       "      <td>1.081047e+04</td>\n",
       "      <td>4.955221e-01</td>\n",
       "      <td>3.494132e-01</td>\n",
       "      <td>3.064999e+02</td>\n",
       "      <td>...</td>\n",
       "      <td>NaN</td>\n",
       "      <td>NaN</td>\n",
       "      <td>NaN</td>\n",
       "      <td>NaN</td>\n",
       "      <td>NaN</td>\n",
       "      <td>NaN</td>\n",
       "      <td>NaN</td>\n",
       "      <td>22.220111</td>\n",
       "      <td>0.483046</td>\n",
       "      <td>NaN</td>\n",
       "    </tr>\n",
       "    <tr>\n",
       "      <th>min</th>\n",
       "      <td>23.0</td>\n",
       "      <td>4.000000e+01</td>\n",
       "      <td>1.000000e+00</td>\n",
       "      <td>0.000000e+00</td>\n",
       "      <td>0.000000e+00</td>\n",
       "      <td>1.607630e+09</td>\n",
       "      <td>0.000000e+00</td>\n",
       "      <td>0.000000e+00</td>\n",
       "      <td>0.000000e+00</td>\n",
       "      <td>2.412000e+03</td>\n",
       "      <td>...</td>\n",
       "      <td>NaN</td>\n",
       "      <td>NaN</td>\n",
       "      <td>NaN</td>\n",
       "      <td>NaN</td>\n",
       "      <td>NaN</td>\n",
       "      <td>NaN</td>\n",
       "      <td>NaN</td>\n",
       "      <td>0.000000</td>\n",
       "      <td>1.000000</td>\n",
       "      <td>1496.0</td>\n",
       "    </tr>\n",
       "    <tr>\n",
       "      <th>25%</th>\n",
       "      <td>23.0</td>\n",
       "      <td>5.800000e+01</td>\n",
       "      <td>4.837262e+05</td>\n",
       "      <td>8.573400e-05</td>\n",
       "      <td>8.573400e-05</td>\n",
       "      <td>1.649644e+09</td>\n",
       "      <td>6.107860e+02</td>\n",
       "      <td>0.000000e+00</td>\n",
       "      <td>0.000000e+00</td>\n",
       "      <td>2.417000e+03</td>\n",
       "      <td>...</td>\n",
       "      <td>NaN</td>\n",
       "      <td>NaN</td>\n",
       "      <td>NaN</td>\n",
       "      <td>NaN</td>\n",
       "      <td>NaN</td>\n",
       "      <td>NaN</td>\n",
       "      <td>NaN</td>\n",
       "      <td>0.000000</td>\n",
       "      <td>1.000000</td>\n",
       "      <td>1496.0</td>\n",
       "    </tr>\n",
       "    <tr>\n",
       "      <th>50%</th>\n",
       "      <td>23.0</td>\n",
       "      <td>1.300000e+02</td>\n",
       "      <td>9.845330e+05</td>\n",
       "      <td>7.061130e-04</td>\n",
       "      <td>7.061130e-04</td>\n",
       "      <td>1.649644e+09</td>\n",
       "      <td>1.267982e+03</td>\n",
       "      <td>1.000000e+00</td>\n",
       "      <td>0.000000e+00</td>\n",
       "      <td>2.417000e+03</td>\n",
       "      <td>...</td>\n",
       "      <td>NaN</td>\n",
       "      <td>NaN</td>\n",
       "      <td>NaN</td>\n",
       "      <td>NaN</td>\n",
       "      <td>NaN</td>\n",
       "      <td>NaN</td>\n",
       "      <td>NaN</td>\n",
       "      <td>0.000000</td>\n",
       "      <td>1.000000</td>\n",
       "      <td>1496.0</td>\n",
       "    </tr>\n",
       "    <tr>\n",
       "      <th>75%</th>\n",
       "      <td>23.0</td>\n",
       "      <td>1.372000e+03</td>\n",
       "      <td>1.472839e+06</td>\n",
       "      <td>1.626991e-02</td>\n",
       "      <td>1.626991e-02</td>\n",
       "      <td>1.649882e+09</td>\n",
       "      <td>1.465721e+04</td>\n",
       "      <td>1.000000e+00</td>\n",
       "      <td>0.000000e+00</td>\n",
       "      <td>2.422000e+03</td>\n",
       "      <td>...</td>\n",
       "      <td>NaN</td>\n",
       "      <td>NaN</td>\n",
       "      <td>NaN</td>\n",
       "      <td>NaN</td>\n",
       "      <td>NaN</td>\n",
       "      <td>NaN</td>\n",
       "      <td>NaN</td>\n",
       "      <td>34.500000</td>\n",
       "      <td>1.750000</td>\n",
       "      <td>1496.0</td>\n",
       "    </tr>\n",
       "    <tr>\n",
       "      <th>max</th>\n",
       "      <td>23.0</td>\n",
       "      <td>3.156000e+03</td>\n",
       "      <td>2.250000e+06</td>\n",
       "      <td>4.024584e+00</td>\n",
       "      <td>4.024584e+00</td>\n",
       "      <td>1.649903e+09</td>\n",
       "      <td>3.590965e+04</td>\n",
       "      <td>1.000000e+00</td>\n",
       "      <td>1.000000e+00</td>\n",
       "      <td>5.180000e+03</td>\n",
       "      <td>...</td>\n",
       "      <td>NaN</td>\n",
       "      <td>NaN</td>\n",
       "      <td>NaN</td>\n",
       "      <td>NaN</td>\n",
       "      <td>NaN</td>\n",
       "      <td>NaN</td>\n",
       "      <td>NaN</td>\n",
       "      <td>46.000000</td>\n",
       "      <td>2.000000</td>\n",
       "      <td>1496.0</td>\n",
       "    </tr>\n",
       "  </tbody>\n",
       "</table>\n",
       "<p>8 rows × 129 columns</p>\n",
       "</div>"
      ],
      "text/plain": [
       "       frame.encap_type     frame.len  frame.number  frame.time_delta  \\\n",
       "count         8012902.0  8.012902e+06  8.012902e+06      8.012902e+06   \n",
       "mean               23.0  4.957776e+02  9.977895e+05      9.753703e-03   \n",
       "std                 0.0  5.701087e+02  6.014911e+05      1.728864e-02   \n",
       "min                23.0  4.000000e+01  1.000000e+00      0.000000e+00   \n",
       "25%                23.0  5.800000e+01  4.837262e+05      8.573400e-05   \n",
       "50%                23.0  1.300000e+02  9.845330e+05      7.061130e-04   \n",
       "75%                23.0  1.372000e+03  1.472839e+06      1.626991e-02   \n",
       "max                23.0  3.156000e+03  2.250000e+06      4.024584e+00   \n",
       "\n",
       "       frame.time_delta_displayed  frame.time_epoch  frame.time_relative  \\\n",
       "count                8.012902e+06      8.012902e+06         8.012902e+06   \n",
       "mean                 9.753703e-03      1.648966e+09         8.088158e+03   \n",
       "std                  1.728864e-02      5.670425e+06         1.081047e+04   \n",
       "min                  0.000000e+00      1.607630e+09         0.000000e+00   \n",
       "25%                  8.573400e-05      1.649644e+09         6.107860e+02   \n",
       "50%                  7.061130e-04      1.649644e+09         1.267982e+03   \n",
       "75%                  1.626991e-02      1.649882e+09         1.465721e+04   \n",
       "max                  4.024584e+00      1.649903e+09         3.590965e+04   \n",
       "\n",
       "       radiotap.channel.flags.cck  radiotap.channel.flags.ofdm  \\\n",
       "count                8.012902e+06                 8.012902e+06   \n",
       "mean                 5.667672e-01                 1.423543e-01   \n",
       "std                  4.955221e-01                 3.494132e-01   \n",
       "min                  0.000000e+00                 0.000000e+00   \n",
       "25%                  0.000000e+00                 0.000000e+00   \n",
       "50%                  1.000000e+00                 0.000000e+00   \n",
       "75%                  1.000000e+00                 0.000000e+00   \n",
       "max                  1.000000e+00                 1.000000e+00   \n",
       "\n",
       "       radiotap.channel.freq  ...  ssh.mpint_length  ssh.packet_length  \\\n",
       "count           8.012902e+06  ...               0.0                0.0   \n",
       "mean            2.453811e+03  ...               NaN                NaN   \n",
       "std             3.064999e+02  ...               NaN                NaN   \n",
       "min             2.412000e+03  ...               NaN                NaN   \n",
       "25%             2.417000e+03  ...               NaN                NaN   \n",
       "50%             2.417000e+03  ...               NaN                NaN   \n",
       "75%             2.422000e+03  ...               NaN                NaN   \n",
       "max             5.180000e+03  ...               NaN                NaN   \n",
       "\n",
       "       ssh.packet_length_encrypted  ssh.padding_length  ssh.padding_string  \\\n",
       "count                          0.0                 0.0                 0.0   \n",
       "mean                           NaN                 NaN                 NaN   \n",
       "std                            NaN                 NaN                 NaN   \n",
       "min                            NaN                 NaN                 NaN   \n",
       "25%                            NaN                 NaN                 NaN   \n",
       "50%                            NaN                 NaN                 NaN   \n",
       "75%                            NaN                 NaN                 NaN   \n",
       "max                            NaN                 NaN                 NaN   \n",
       "\n",
       "       ssh.protocol  ssh.server_host_key_algorithms_length  \\\n",
       "count           0.0                                    0.0   \n",
       "mean            NaN                                    NaN   \n",
       "std             NaN                                    NaN   \n",
       "min             NaN                                    NaN   \n",
       "25%             NaN                                    NaN   \n",
       "50%             NaN                                    NaN   \n",
       "75%             NaN                                    NaN   \n",
       "max             NaN                                    NaN   \n",
       "\n",
       "       tls.alert_message.desc  tls.alert_message.level  \\\n",
       "count               10.000000                10.000000   \n",
       "mean                13.800000                 1.300000   \n",
       "std                 22.220111                 0.483046   \n",
       "min                  0.000000                 1.000000   \n",
       "25%                  0.000000                 1.000000   \n",
       "50%                  0.000000                 1.000000   \n",
       "75%                 34.500000                 1.750000   \n",
       "max                 46.000000                 2.000000   \n",
       "\n",
       "       tls.compress_certificate.compressed_certificate_message.length  \n",
       "count                                                1.0               \n",
       "mean                                              1496.0               \n",
       "std                                                  NaN               \n",
       "min                                               1496.0               \n",
       "25%                                               1496.0               \n",
       "50%                                               1496.0               \n",
       "75%                                               1496.0               \n",
       "max                                               1496.0               \n",
       "\n",
       "[8 rows x 129 columns]"
      ]
     },
     "execution_count": 11,
     "metadata": {},
     "output_type": "execute_result"
    }
   ],
   "source": [
    "data.describe()"
   ]
  },
  {
   "cell_type": "code",
   "execution_count": null,
   "metadata": {},
   "outputs": [],
   "source": []
  },
  {
   "cell_type": "code",
   "execution_count": 12,
   "metadata": {},
   "outputs": [
    {
     "data": {
      "text/plain": [
       "Normal          4517300\n",
       "Beacon Flood    2667248\n",
       "Deauth           752070\n",
       "RogueAP           50258\n",
       "Krack             16009\n",
       "Evil_Twin         10017\n",
       "Name: Label, dtype: int64"
      ]
     },
     "execution_count": 12,
     "metadata": {},
     "output_type": "execute_result"
    }
   ],
   "source": [
    "data['Label'].value_counts()"
   ]
  },
  {
   "cell_type": "code",
   "execution_count": 13,
   "metadata": {},
   "outputs": [
    {
     "data": {
      "text/plain": [
       "frame.encap_type                             0\n",
       "frame.len                                    0\n",
       "frame.number                                 0\n",
       "frame.time                                   0\n",
       "frame.time_delta                             0\n",
       "                                        ...   \n",
       "tls.handshake.session_ticket_length    8012860\n",
       "tls.handshake.version                  8012677\n",
       "tls.record.content_type                8010520\n",
       "tls.record.version                     8009821\n",
       "Label                                        0\n",
       "Length: 250, dtype: int64"
      ]
     },
     "execution_count": 13,
     "metadata": {},
     "output_type": "execute_result"
    }
   ],
   "source": [
    "data.isna().sum()"
   ]
  },
  {
   "cell_type": "markdown",
   "metadata": {},
   "source": [
    "import sklearn.metrics as metrics<h2> Dropping columns with 50% of null data</h2>"
   ]
  },
  {
   "cell_type": "code",
   "execution_count": 14,
   "metadata": {},
   "outputs": [
    {
     "data": {
      "text/plain": [
       "(201,)"
      ]
     },
     "execution_count": 14,
     "metadata": {},
     "output_type": "execute_result"
    }
   ],
   "source": [
    "data.replace({\"?\":None}, inplace=True)\n",
    "null_column=data.columns[data.isnull().mean() >= 0.90]\n",
    "null_column.shape"
   ]
  },
  {
   "cell_type": "code",
   "execution_count": 15,
   "metadata": {},
   "outputs": [
    {
     "data": {
      "text/plain": [
       "250"
      ]
     },
     "execution_count": 15,
     "metadata": {},
     "output_type": "execute_result"
    }
   ],
   "source": [
    "len(data.columns)"
   ]
  },
  {
   "cell_type": "markdown",
   "metadata": {},
   "source": [
    "<h2>Dropping all the null rows</h2>"
   ]
  },
  {
   "cell_type": "code",
   "execution_count": 16,
   "metadata": {},
   "outputs": [],
   "source": [
    "data.drop(null_column, axis=1, inplace=True)\n",
    "# data.dropna(inplace=True)"
   ]
  },
  {
   "cell_type": "code",
   "execution_count": 17,
   "metadata": {},
   "outputs": [
    {
     "data": {
      "text/plain": [
       "frame.encap_type                      0\n",
       "frame.len                             0\n",
       "frame.number                          0\n",
       "frame.time                            0\n",
       "frame.time_delta                      0\n",
       "frame.time_delta_displayed            0\n",
       "frame.time_epoch                      0\n",
       "frame.time_relative                   0\n",
       "radiotap.channel.flags.cck            0\n",
       "radiotap.channel.flags.ofdm           0\n",
       "radiotap.channel.freq                 0\n",
       "radiotap.datarate                919990\n",
       "radiotap.dbm_antsignal                0\n",
       "radiotap.length                       0\n",
       "radiotap.present.tsft                 0\n",
       "radiotap.rxflags                      0\n",
       "wlan.duration                        48\n",
       "wlan.bssid                      1347603\n",
       "wlan.da                         1347694\n",
       "wlan.fc.ds                            0\n",
       "wlan.fc.frag                          0\n",
       "wlan.fc.order                         0\n",
       "wlan.fc.moredata                      0\n",
       "wlan.fc.protected                     0\n",
       "wlan.fc.pwrmgt                        0\n",
       "wlan.fc.type                          0\n",
       "wlan.fc.retry                         0\n",
       "wlan.fc.subtype                       0\n",
       "wlan.fixed.beacon               4531067\n",
       "wlan.fixed.capabilities.ess     4530706\n",
       "wlan.fixed.capabilities.ibss    4530706\n",
       "wlan.fixed.timestamp            4531067\n",
       "wlan.ra                               0\n",
       "wlan_radio.duration              870208\n",
       "wlan.sa                         1351225\n",
       "wlan.seq                        1347613\n",
       "wlan.ssid                       4529851\n",
       "wlan.ta                          535573\n",
       "wlan.tag                        4504153\n",
       "wlan.tag.length                 4504153\n",
       "wlan_radio.channel                    0\n",
       "wlan_radio.data_rate                  0\n",
       "wlan_radio.frequency                  0\n",
       "wlan_radio.signal_dbm                 0\n",
       "wlan_radio.phy                        0\n",
       "wlan.rsn.capabilities.mfpc      7202284\n",
       "data.data                       5690831\n",
       "data.len                        5690831\n",
       "Label                                 0\n",
       "dtype: int64"
      ]
     },
     "execution_count": 17,
     "metadata": {},
     "output_type": "execute_result"
    }
   ],
   "source": [
    "data.isna().sum()"
   ]
  },
  {
   "cell_type": "code",
   "execution_count": 18,
   "metadata": {},
   "outputs": [
    {
     "data": {
      "text/plain": [
       "Normal          4517300\n",
       "Beacon Flood    2667248\n",
       "Deauth           752070\n",
       "RogueAP           50258\n",
       "Krack             16009\n",
       "Evil_Twin         10017\n",
       "Name: Label, dtype: int64"
      ]
     },
     "execution_count": 18,
     "metadata": {},
     "output_type": "execute_result"
    }
   ],
   "source": [
    "data['Label'].value_counts()"
   ]
  },
  {
   "cell_type": "markdown",
   "metadata": {},
   "source": [
    "<h2>Converting all the Columns to numeric</h2>"
   ]
  },
  {
   "cell_type": "code",
   "execution_count": 19,
   "metadata": {},
   "outputs": [],
   "source": [
    "for col in data.columns:\n",
    "    data[col]=pd.to_numeric(data[col], errors='ignore')"
   ]
  },
  {
   "cell_type": "code",
   "execution_count": 20,
   "metadata": {},
   "outputs": [
    {
     "data": {
      "text/html": [
       "<div>\n",
       "<style scoped>\n",
       "    .dataframe tbody tr th:only-of-type {\n",
       "        vertical-align: middle;\n",
       "    }\n",
       "\n",
       "    .dataframe tbody tr th {\n",
       "        vertical-align: top;\n",
       "    }\n",
       "\n",
       "    .dataframe thead th {\n",
       "        text-align: right;\n",
       "    }\n",
       "</style>\n",
       "<table border=\"1\" class=\"dataframe\">\n",
       "  <thead>\n",
       "    <tr style=\"text-align: right;\">\n",
       "      <th></th>\n",
       "      <th>frame.encap_type</th>\n",
       "      <th>frame.len</th>\n",
       "      <th>frame.number</th>\n",
       "      <th>frame.time_delta</th>\n",
       "      <th>frame.time_delta_displayed</th>\n",
       "      <th>frame.time_epoch</th>\n",
       "      <th>frame.time_relative</th>\n",
       "      <th>radiotap.channel.flags.cck</th>\n",
       "      <th>radiotap.channel.flags.ofdm</th>\n",
       "      <th>radiotap.channel.freq</th>\n",
       "      <th>...</th>\n",
       "      <th>wlan.fixed.capabilities.ibss</th>\n",
       "      <th>wlan.fixed.timestamp</th>\n",
       "      <th>wlan_radio.duration</th>\n",
       "      <th>wlan.seq</th>\n",
       "      <th>wlan_radio.channel</th>\n",
       "      <th>wlan_radio.data_rate</th>\n",
       "      <th>wlan_radio.frequency</th>\n",
       "      <th>wlan_radio.signal_dbm</th>\n",
       "      <th>wlan_radio.phy</th>\n",
       "      <th>wlan.rsn.capabilities.mfpc</th>\n",
       "    </tr>\n",
       "  </thead>\n",
       "  <tbody>\n",
       "    <tr>\n",
       "      <th>0</th>\n",
       "      <td>23</td>\n",
       "      <td>400</td>\n",
       "      <td>1</td>\n",
       "      <td>0.000000</td>\n",
       "      <td>0.000000</td>\n",
       "      <td>1.649643e+09</td>\n",
       "      <td>0.000000</td>\n",
       "      <td>1</td>\n",
       "      <td>0</td>\n",
       "      <td>2417</td>\n",
       "      <td>...</td>\n",
       "      <td>0.0</td>\n",
       "      <td>726835626.0</td>\n",
       "      <td>3152.0</td>\n",
       "      <td>3204.0</td>\n",
       "      <td>2</td>\n",
       "      <td>1.0</td>\n",
       "      <td>2417</td>\n",
       "      <td>-15</td>\n",
       "      <td>4</td>\n",
       "      <td>1.0</td>\n",
       "    </tr>\n",
       "    <tr>\n",
       "      <th>1</th>\n",
       "      <td>23</td>\n",
       "      <td>400</td>\n",
       "      <td>2</td>\n",
       "      <td>0.102332</td>\n",
       "      <td>0.102332</td>\n",
       "      <td>1.649643e+09</td>\n",
       "      <td>0.102332</td>\n",
       "      <td>1</td>\n",
       "      <td>0</td>\n",
       "      <td>2417</td>\n",
       "      <td>...</td>\n",
       "      <td>0.0</td>\n",
       "      <td>726938010.0</td>\n",
       "      <td>3152.0</td>\n",
       "      <td>3205.0</td>\n",
       "      <td>2</td>\n",
       "      <td>1.0</td>\n",
       "      <td>2417</td>\n",
       "      <td>-12</td>\n",
       "      <td>4</td>\n",
       "      <td>1.0</td>\n",
       "    </tr>\n",
       "    <tr>\n",
       "      <th>2</th>\n",
       "      <td>23</td>\n",
       "      <td>400</td>\n",
       "      <td>3</td>\n",
       "      <td>0.102466</td>\n",
       "      <td>0.102466</td>\n",
       "      <td>1.649643e+09</td>\n",
       "      <td>0.204799</td>\n",
       "      <td>1</td>\n",
       "      <td>0</td>\n",
       "      <td>2417</td>\n",
       "      <td>...</td>\n",
       "      <td>0.0</td>\n",
       "      <td>727040422.0</td>\n",
       "      <td>3152.0</td>\n",
       "      <td>3206.0</td>\n",
       "      <td>2</td>\n",
       "      <td>1.0</td>\n",
       "      <td>2417</td>\n",
       "      <td>-13</td>\n",
       "      <td>4</td>\n",
       "      <td>1.0</td>\n",
       "    </tr>\n",
       "    <tr>\n",
       "      <th>3</th>\n",
       "      <td>23</td>\n",
       "      <td>400</td>\n",
       "      <td>4</td>\n",
       "      <td>0.102389</td>\n",
       "      <td>0.102389</td>\n",
       "      <td>1.649643e+09</td>\n",
       "      <td>0.307188</td>\n",
       "      <td>1</td>\n",
       "      <td>0</td>\n",
       "      <td>2417</td>\n",
       "      <td>...</td>\n",
       "      <td>0.0</td>\n",
       "      <td>727142806.0</td>\n",
       "      <td>3152.0</td>\n",
       "      <td>3207.0</td>\n",
       "      <td>2</td>\n",
       "      <td>1.0</td>\n",
       "      <td>2417</td>\n",
       "      <td>-15</td>\n",
       "      <td>4</td>\n",
       "      <td>1.0</td>\n",
       "    </tr>\n",
       "    <tr>\n",
       "      <th>4</th>\n",
       "      <td>23</td>\n",
       "      <td>400</td>\n",
       "      <td>5</td>\n",
       "      <td>0.102392</td>\n",
       "      <td>0.102392</td>\n",
       "      <td>1.649643e+09</td>\n",
       "      <td>0.409579</td>\n",
       "      <td>1</td>\n",
       "      <td>0</td>\n",
       "      <td>2417</td>\n",
       "      <td>...</td>\n",
       "      <td>0.0</td>\n",
       "      <td>727245199.0</td>\n",
       "      <td>3152.0</td>\n",
       "      <td>3208.0</td>\n",
       "      <td>2</td>\n",
       "      <td>1.0</td>\n",
       "      <td>2417</td>\n",
       "      <td>-11</td>\n",
       "      <td>4</td>\n",
       "      <td>1.0</td>\n",
       "    </tr>\n",
       "  </tbody>\n",
       "</table>\n",
       "<p>5 rows × 34 columns</p>\n",
       "</div>"
      ],
      "text/plain": [
       "   frame.encap_type  frame.len  frame.number  frame.time_delta  \\\n",
       "0                23        400             1          0.000000   \n",
       "1                23        400             2          0.102332   \n",
       "2                23        400             3          0.102466   \n",
       "3                23        400             4          0.102389   \n",
       "4                23        400             5          0.102392   \n",
       "\n",
       "   frame.time_delta_displayed  frame.time_epoch  frame.time_relative  \\\n",
       "0                    0.000000      1.649643e+09             0.000000   \n",
       "1                    0.102332      1.649643e+09             0.102332   \n",
       "2                    0.102466      1.649643e+09             0.204799   \n",
       "3                    0.102389      1.649643e+09             0.307188   \n",
       "4                    0.102392      1.649643e+09             0.409579   \n",
       "\n",
       "   radiotap.channel.flags.cck  radiotap.channel.flags.ofdm  \\\n",
       "0                           1                            0   \n",
       "1                           1                            0   \n",
       "2                           1                            0   \n",
       "3                           1                            0   \n",
       "4                           1                            0   \n",
       "\n",
       "   radiotap.channel.freq  ...  wlan.fixed.capabilities.ibss  \\\n",
       "0                   2417  ...                           0.0   \n",
       "1                   2417  ...                           0.0   \n",
       "2                   2417  ...                           0.0   \n",
       "3                   2417  ...                           0.0   \n",
       "4                   2417  ...                           0.0   \n",
       "\n",
       "   wlan.fixed.timestamp  wlan_radio.duration  wlan.seq  wlan_radio.channel  \\\n",
       "0           726835626.0               3152.0    3204.0                   2   \n",
       "1           726938010.0               3152.0    3205.0                   2   \n",
       "2           727040422.0               3152.0    3206.0                   2   \n",
       "3           727142806.0               3152.0    3207.0                   2   \n",
       "4           727245199.0               3152.0    3208.0                   2   \n",
       "\n",
       "   wlan_radio.data_rate  wlan_radio.frequency  wlan_radio.signal_dbm  \\\n",
       "0                   1.0                  2417                    -15   \n",
       "1                   1.0                  2417                    -12   \n",
       "2                   1.0                  2417                    -13   \n",
       "3                   1.0                  2417                    -15   \n",
       "4                   1.0                  2417                    -11   \n",
       "\n",
       "   wlan_radio.phy  wlan.rsn.capabilities.mfpc  \n",
       "0               4                         1.0  \n",
       "1               4                         1.0  \n",
       "2               4                         1.0  \n",
       "3               4                         1.0  \n",
       "4               4                         1.0  \n",
       "\n",
       "[5 rows x 34 columns]"
      ]
     },
     "execution_count": 20,
     "metadata": {},
     "output_type": "execute_result"
    }
   ],
   "source": [
    "data.select_dtypes(['number']).head()"
   ]
  },
  {
   "cell_type": "code",
   "execution_count": 21,
   "metadata": {},
   "outputs": [],
   "source": [
    "import numpy as np\n",
    "data = data.replace(np.nan, 0)"
   ]
  },
  {
   "cell_type": "markdown",
   "metadata": {},
   "source": [
    "<h2>Splitting the training data</h2>"
   ]
  },
  {
   "cell_type": "code",
   "execution_count": 22,
   "metadata": {},
   "outputs": [],
   "source": [
    "from sklearn.model_selection import train_test_split\n",
    "# X_train, y_train = data.select_dtypes(['number']), data['Label']\n",
    "X_train, X_test, y_train, y_test = train_test_split(data.select_dtypes(['number']), data['Label'], test_size=0.33, random_state=42)"
   ]
  },
  {
   "cell_type": "code",
   "execution_count": 23,
   "metadata": {},
   "outputs": [
    {
     "data": {
      "text/plain": [
       "Normal          3026993\n",
       "Beacon Flood    1786316\n",
       "Deauth           504236\n",
       "RogueAP           33573\n",
       "Krack             10686\n",
       "Evil_Twin          6840\n",
       "Name: Label, dtype: int64"
      ]
     },
     "execution_count": 23,
     "metadata": {},
     "output_type": "execute_result"
    }
   ],
   "source": [
    "y_train.value_counts()"
   ]
  },
  {
   "cell_type": "markdown",
   "metadata": {},
   "source": [
    "<h2>Removing all the Constant of training data</h2>"
   ]
  },
  {
   "cell_type": "code",
   "execution_count": 24,
   "metadata": {},
   "outputs": [
    {
     "data": {
      "text/plain": [
       "(5368644, 18)"
      ]
     },
     "execution_count": 24,
     "metadata": {},
     "output_type": "execute_result"
    }
   ],
   "source": [
    "zero_mean=X_train.columns[X_train.mean() <= 1]\n",
    "X_train.drop(zero_mean, axis=1, inplace=True, errors='ignore')\n",
    "X_train.shape"
   ]
  },
  {
   "cell_type": "code",
   "execution_count": 25,
   "metadata": {},
   "outputs": [
    {
     "data": {
      "text/html": [
       "<div>\n",
       "<style scoped>\n",
       "    .dataframe tbody tr th:only-of-type {\n",
       "        vertical-align: middle;\n",
       "    }\n",
       "\n",
       "    .dataframe tbody tr th {\n",
       "        vertical-align: top;\n",
       "    }\n",
       "\n",
       "    .dataframe thead th {\n",
       "        text-align: right;\n",
       "    }\n",
       "</style>\n",
       "<table border=\"1\" class=\"dataframe\">\n",
       "  <thead>\n",
       "    <tr style=\"text-align: right;\">\n",
       "      <th></th>\n",
       "      <th>frame.encap_type</th>\n",
       "      <th>frame.len</th>\n",
       "      <th>frame.number</th>\n",
       "      <th>frame.time_epoch</th>\n",
       "      <th>frame.time_relative</th>\n",
       "      <th>radiotap.channel.freq</th>\n",
       "      <th>radiotap.datarate</th>\n",
       "      <th>radiotap.length</th>\n",
       "      <th>wlan.duration</th>\n",
       "      <th>wlan.fc.subtype</th>\n",
       "      <th>wlan.fixed.beacon</th>\n",
       "      <th>wlan.fixed.timestamp</th>\n",
       "      <th>wlan_radio.duration</th>\n",
       "      <th>wlan.seq</th>\n",
       "      <th>wlan_radio.channel</th>\n",
       "      <th>wlan_radio.data_rate</th>\n",
       "      <th>wlan_radio.frequency</th>\n",
       "      <th>wlan_radio.phy</th>\n",
       "    </tr>\n",
       "  </thead>\n",
       "  <tbody>\n",
       "    <tr>\n",
       "      <th>count</th>\n",
       "      <td>5368644.0</td>\n",
       "      <td>5.368644e+06</td>\n",
       "      <td>5.368644e+06</td>\n",
       "      <td>5.368644e+06</td>\n",
       "      <td>5.368644e+06</td>\n",
       "      <td>5.368644e+06</td>\n",
       "      <td>5.368644e+06</td>\n",
       "      <td>5.368644e+06</td>\n",
       "      <td>5.368644e+06</td>\n",
       "      <td>5.368644e+06</td>\n",
       "      <td>5.368644e+06</td>\n",
       "      <td>5.368644e+06</td>\n",
       "      <td>5.368644e+06</td>\n",
       "      <td>5.368644e+06</td>\n",
       "      <td>5.368644e+06</td>\n",
       "      <td>5.368644e+06</td>\n",
       "      <td>5.368644e+06</td>\n",
       "      <td>5.368644e+06</td>\n",
       "    </tr>\n",
       "    <tr>\n",
       "      <th>mean</th>\n",
       "      <td>23.0</td>\n",
       "      <td>4.957799e+02</td>\n",
       "      <td>9.980187e+05</td>\n",
       "      <td>1.648965e+09</td>\n",
       "      <td>8.089134e+03</td>\n",
       "      <td>2.453941e+03</td>\n",
       "      <td>2.765308e+01</td>\n",
       "      <td>3.541227e+01</td>\n",
       "      <td>9.663681e+01</td>\n",
       "      <td>8.739078e+00</td>\n",
       "      <td>4.291141e+01</td>\n",
       "      <td>1.888370e+09</td>\n",
       "      <td>7.224631e+02</td>\n",
       "      <td>1.699281e+03</td>\n",
       "      <td>2.891456e+00</td>\n",
       "      <td>4.571994e+01</td>\n",
       "      <td>2.453941e+03</td>\n",
       "      <td>5.271369e+00</td>\n",
       "    </tr>\n",
       "    <tr>\n",
       "      <th>std</th>\n",
       "      <td>0.0</td>\n",
       "      <td>5.701175e+02</td>\n",
       "      <td>6.015719e+05</td>\n",
       "      <td>5.675234e+06</td>\n",
       "      <td>1.081263e+04</td>\n",
       "      <td>3.070752e+02</td>\n",
       "      <td>5.022156e+01</td>\n",
       "      <td>8.577670e+00</td>\n",
       "      <td>2.303160e+02</td>\n",
       "      <td>1.639608e+00</td>\n",
       "      <td>4.940999e+01</td>\n",
       "      <td>8.644606e+09</td>\n",
       "      <td>9.165446e+02</td>\n",
       "      <td>1.323008e+03</td>\n",
       "      <td>3.825618e+00</td>\n",
       "      <td>6.381358e+01</td>\n",
       "      <td>3.070752e+02</td>\n",
       "      <td>1.543835e+00</td>\n",
       "    </tr>\n",
       "    <tr>\n",
       "      <th>min</th>\n",
       "      <td>23.0</td>\n",
       "      <td>4.000000e+01</td>\n",
       "      <td>1.000000e+00</td>\n",
       "      <td>1.607630e+09</td>\n",
       "      <td>0.000000e+00</td>\n",
       "      <td>2.412000e+03</td>\n",
       "      <td>0.000000e+00</td>\n",
       "      <td>3.000000e+01</td>\n",
       "      <td>0.000000e+00</td>\n",
       "      <td>0.000000e+00</td>\n",
       "      <td>0.000000e+00</td>\n",
       "      <td>0.000000e+00</td>\n",
       "      <td>0.000000e+00</td>\n",
       "      <td>0.000000e+00</td>\n",
       "      <td>1.000000e+00</td>\n",
       "      <td>1.000000e+00</td>\n",
       "      <td>2.412000e+03</td>\n",
       "      <td>4.000000e+00</td>\n",
       "    </tr>\n",
       "    <tr>\n",
       "      <th>25%</th>\n",
       "      <td>23.0</td>\n",
       "      <td>5.800000e+01</td>\n",
       "      <td>4.838988e+05</td>\n",
       "      <td>1.649644e+09</td>\n",
       "      <td>6.107429e+02</td>\n",
       "      <td>2.417000e+03</td>\n",
       "      <td>1.000000e+00</td>\n",
       "      <td>3.000000e+01</td>\n",
       "      <td>0.000000e+00</td>\n",
       "      <td>8.000000e+00</td>\n",
       "      <td>0.000000e+00</td>\n",
       "      <td>0.000000e+00</td>\n",
       "      <td>6.400000e+01</td>\n",
       "      <td>3.960000e+02</td>\n",
       "      <td>2.000000e+00</td>\n",
       "      <td>1.000000e+00</td>\n",
       "      <td>2.417000e+03</td>\n",
       "      <td>4.000000e+00</td>\n",
       "    </tr>\n",
       "    <tr>\n",
       "      <th>50%</th>\n",
       "      <td>23.0</td>\n",
       "      <td>1.300000e+02</td>\n",
       "      <td>9.848520e+05</td>\n",
       "      <td>1.649644e+09</td>\n",
       "      <td>1.267893e+03</td>\n",
       "      <td>2.417000e+03</td>\n",
       "      <td>1.000000e+00</td>\n",
       "      <td>3.000000e+01</td>\n",
       "      <td>0.000000e+00</td>\n",
       "      <td>8.000000e+00</td>\n",
       "      <td>0.000000e+00</td>\n",
       "      <td>0.000000e+00</td>\n",
       "      <td>4.000000e+02</td>\n",
       "      <td>1.624000e+03</td>\n",
       "      <td>2.000000e+00</td>\n",
       "      <td>1.000000e+00</td>\n",
       "      <td>2.417000e+03</td>\n",
       "      <td>4.000000e+00</td>\n",
       "    </tr>\n",
       "    <tr>\n",
       "      <th>75%</th>\n",
       "      <td>23.0</td>\n",
       "      <td>1.372000e+03</td>\n",
       "      <td>1.473154e+06</td>\n",
       "      <td>1.649882e+09</td>\n",
       "      <td>1.466553e+04</td>\n",
       "      <td>2.422000e+03</td>\n",
       "      <td>2.400000e+01</td>\n",
       "      <td>4.400000e+01</td>\n",
       "      <td>2.200000e+02</td>\n",
       "      <td>9.000000e+00</td>\n",
       "      <td>1.000000e+02</td>\n",
       "      <td>0.000000e+00</td>\n",
       "      <td>9.920000e+02</td>\n",
       "      <td>2.862000e+03</td>\n",
       "      <td>3.000000e+00</td>\n",
       "      <td>1.300000e+02</td>\n",
       "      <td>2.422000e+03</td>\n",
       "      <td>7.000000e+00</td>\n",
       "    </tr>\n",
       "    <tr>\n",
       "      <th>max</th>\n",
       "      <td>23.0</td>\n",
       "      <td>3.156000e+03</td>\n",
       "      <td>2.249999e+06</td>\n",
       "      <td>1.649903e+09</td>\n",
       "      <td>3.590965e+04</td>\n",
       "      <td>5.180000e+03</td>\n",
       "      <td>1.444440e+02</td>\n",
       "      <td>6.400000e+01</td>\n",
       "      <td>3.000000e+04</td>\n",
       "      <td>1.400000e+01</td>\n",
       "      <td>1.000000e+02</td>\n",
       "      <td>2.615290e+12</td>\n",
       "      <td>1.262400e+04</td>\n",
       "      <td>4.095000e+03</td>\n",
       "      <td>3.600000e+01</td>\n",
       "      <td>1.733330e+02</td>\n",
       "      <td>5.180000e+03</td>\n",
       "      <td>8.000000e+00</td>\n",
       "    </tr>\n",
       "  </tbody>\n",
       "</table>\n",
       "</div>"
      ],
      "text/plain": [
       "       frame.encap_type     frame.len  frame.number  frame.time_epoch  \\\n",
       "count         5368644.0  5.368644e+06  5.368644e+06      5.368644e+06   \n",
       "mean               23.0  4.957799e+02  9.980187e+05      1.648965e+09   \n",
       "std                 0.0  5.701175e+02  6.015719e+05      5.675234e+06   \n",
       "min                23.0  4.000000e+01  1.000000e+00      1.607630e+09   \n",
       "25%                23.0  5.800000e+01  4.838988e+05      1.649644e+09   \n",
       "50%                23.0  1.300000e+02  9.848520e+05      1.649644e+09   \n",
       "75%                23.0  1.372000e+03  1.473154e+06      1.649882e+09   \n",
       "max                23.0  3.156000e+03  2.249999e+06      1.649903e+09   \n",
       "\n",
       "       frame.time_relative  radiotap.channel.freq  radiotap.datarate  \\\n",
       "count         5.368644e+06           5.368644e+06       5.368644e+06   \n",
       "mean          8.089134e+03           2.453941e+03       2.765308e+01   \n",
       "std           1.081263e+04           3.070752e+02       5.022156e+01   \n",
       "min           0.000000e+00           2.412000e+03       0.000000e+00   \n",
       "25%           6.107429e+02           2.417000e+03       1.000000e+00   \n",
       "50%           1.267893e+03           2.417000e+03       1.000000e+00   \n",
       "75%           1.466553e+04           2.422000e+03       2.400000e+01   \n",
       "max           3.590965e+04           5.180000e+03       1.444440e+02   \n",
       "\n",
       "       radiotap.length  wlan.duration  wlan.fc.subtype  wlan.fixed.beacon  \\\n",
       "count     5.368644e+06   5.368644e+06     5.368644e+06       5.368644e+06   \n",
       "mean      3.541227e+01   9.663681e+01     8.739078e+00       4.291141e+01   \n",
       "std       8.577670e+00   2.303160e+02     1.639608e+00       4.940999e+01   \n",
       "min       3.000000e+01   0.000000e+00     0.000000e+00       0.000000e+00   \n",
       "25%       3.000000e+01   0.000000e+00     8.000000e+00       0.000000e+00   \n",
       "50%       3.000000e+01   0.000000e+00     8.000000e+00       0.000000e+00   \n",
       "75%       4.400000e+01   2.200000e+02     9.000000e+00       1.000000e+02   \n",
       "max       6.400000e+01   3.000000e+04     1.400000e+01       1.000000e+02   \n",
       "\n",
       "       wlan.fixed.timestamp  wlan_radio.duration      wlan.seq  \\\n",
       "count          5.368644e+06         5.368644e+06  5.368644e+06   \n",
       "mean           1.888370e+09         7.224631e+02  1.699281e+03   \n",
       "std            8.644606e+09         9.165446e+02  1.323008e+03   \n",
       "min            0.000000e+00         0.000000e+00  0.000000e+00   \n",
       "25%            0.000000e+00         6.400000e+01  3.960000e+02   \n",
       "50%            0.000000e+00         4.000000e+02  1.624000e+03   \n",
       "75%            0.000000e+00         9.920000e+02  2.862000e+03   \n",
       "max            2.615290e+12         1.262400e+04  4.095000e+03   \n",
       "\n",
       "       wlan_radio.channel  wlan_radio.data_rate  wlan_radio.frequency  \\\n",
       "count        5.368644e+06          5.368644e+06          5.368644e+06   \n",
       "mean         2.891456e+00          4.571994e+01          2.453941e+03   \n",
       "std          3.825618e+00          6.381358e+01          3.070752e+02   \n",
       "min          1.000000e+00          1.000000e+00          2.412000e+03   \n",
       "25%          2.000000e+00          1.000000e+00          2.417000e+03   \n",
       "50%          2.000000e+00          1.000000e+00          2.417000e+03   \n",
       "75%          3.000000e+00          1.300000e+02          2.422000e+03   \n",
       "max          3.600000e+01          1.733330e+02          5.180000e+03   \n",
       "\n",
       "       wlan_radio.phy  \n",
       "count    5.368644e+06  \n",
       "mean     5.271369e+00  \n",
       "std      1.543835e+00  \n",
       "min      4.000000e+00  \n",
       "25%      4.000000e+00  \n",
       "50%      4.000000e+00  \n",
       "75%      7.000000e+00  \n",
       "max      8.000000e+00  "
      ]
     },
     "execution_count": 25,
     "metadata": {},
     "output_type": "execute_result"
    }
   ],
   "source": [
    "X_train.describe()"
   ]
  },
  {
   "cell_type": "code",
   "execution_count": null,
   "metadata": {},
   "outputs": [],
   "source": []
  },
  {
   "cell_type": "markdown",
   "metadata": {},
   "source": [
    "<h2>Cleaning testing data</h2>"
   ]
  },
  {
   "cell_type": "code",
   "execution_count": 27,
   "metadata": {},
   "outputs": [],
   "source": [
    "# data_test.isna().sum()\n",
    "# data_test.replace({\"?\":None}, inplace=True)\n",
    "# test_null_column=data_test.columns[data_test.isnull().mean() >= 0.5]\n",
    "# data_test.drop(test_null_column, axis=1, inplace=True)\n",
    "# data_test.dropna(inplace=True)\n",
    "# for i in data_test.columns:\n",
    "#     if i not in data.columns:\n",
    "#         print(i)\n",
    "#         data_test.drop([i], axis=1, inplace=True)\n",
    "\n",
    "# for col in data_test.columns:\n",
    "#     data_test[col]=pd.to_numeric(data_test[col], errors='ignore')\n",
    "\n",
    "\n",
    "# X_test, y_test = data_test.select_dtypes(['number']), data_test['Label']\n",
    "\n",
    "zero_mean=X_test.columns[X_test.mean() <= 1]\n",
    "X_test.drop(zero_mean, axis=1, inplace=True, errors='ignore')"
   ]
  },
  {
   "cell_type": "code",
   "execution_count": 28,
   "metadata": {},
   "outputs": [
    {
     "name": "stdout",
     "output_type": "stream",
     "text": [
      "(2644258, 18)\n",
      "(5368644, 18)\n"
     ]
    }
   ],
   "source": [
    "# for i in X_test.columns:\n",
    "#     if i not in X_train.columns:\n",
    "#         print(i)\n",
    "#         X_test.drop([i], axis=1, inplace=True)\n",
    "\n",
    "# for i in X_train.columns:\n",
    "#     if i not in X_test.columns:\n",
    "#         print(i)\n",
    "#         X_train.drop([i], axis=1, inplace=True)\n",
    "\n",
    "print(X_test.shape)\n",
    "print(X_train.shape)"
   ]
  },
  {
   "cell_type": "code",
   "execution_count": 29,
   "metadata": {},
   "outputs": [
    {
     "data": {
      "text/html": [
       "<div>\n",
       "<style scoped>\n",
       "    .dataframe tbody tr th:only-of-type {\n",
       "        vertical-align: middle;\n",
       "    }\n",
       "\n",
       "    .dataframe tbody tr th {\n",
       "        vertical-align: top;\n",
       "    }\n",
       "\n",
       "    .dataframe thead th {\n",
       "        text-align: right;\n",
       "    }\n",
       "</style>\n",
       "<table border=\"1\" class=\"dataframe\">\n",
       "  <thead>\n",
       "    <tr style=\"text-align: right;\">\n",
       "      <th></th>\n",
       "      <th>frame.encap_type</th>\n",
       "      <th>frame.len</th>\n",
       "      <th>frame.number</th>\n",
       "      <th>frame.time_epoch</th>\n",
       "      <th>frame.time_relative</th>\n",
       "      <th>radiotap.channel.freq</th>\n",
       "      <th>radiotap.datarate</th>\n",
       "      <th>radiotap.length</th>\n",
       "      <th>wlan.duration</th>\n",
       "      <th>wlan.fc.subtype</th>\n",
       "      <th>wlan.fixed.beacon</th>\n",
       "      <th>wlan.fixed.timestamp</th>\n",
       "      <th>wlan_radio.duration</th>\n",
       "      <th>wlan.seq</th>\n",
       "      <th>wlan_radio.channel</th>\n",
       "      <th>wlan_radio.data_rate</th>\n",
       "      <th>wlan_radio.frequency</th>\n",
       "      <th>wlan_radio.phy</th>\n",
       "    </tr>\n",
       "  </thead>\n",
       "  <tbody>\n",
       "    <tr>\n",
       "      <th>count</th>\n",
       "      <td>2644258.0</td>\n",
       "      <td>2.644258e+06</td>\n",
       "      <td>2.644258e+06</td>\n",
       "      <td>2.644258e+06</td>\n",
       "      <td>2.644258e+06</td>\n",
       "      <td>2.644258e+06</td>\n",
       "      <td>2.644258e+06</td>\n",
       "      <td>2.644258e+06</td>\n",
       "      <td>2.644258e+06</td>\n",
       "      <td>2.644258e+06</td>\n",
       "      <td>2.644258e+06</td>\n",
       "      <td>2.644258e+06</td>\n",
       "      <td>2.644258e+06</td>\n",
       "      <td>2.644258e+06</td>\n",
       "      <td>2.644258e+06</td>\n",
       "      <td>2.644258e+06</td>\n",
       "      <td>2.644258e+06</td>\n",
       "      <td>2.644258e+06</td>\n",
       "    </tr>\n",
       "    <tr>\n",
       "      <th>mean</th>\n",
       "      <td>23.0</td>\n",
       "      <td>4.957730e+02</td>\n",
       "      <td>9.973241e+05</td>\n",
       "      <td>1.648969e+09</td>\n",
       "      <td>8.086177e+03</td>\n",
       "      <td>2.453547e+03</td>\n",
       "      <td>2.762093e+01</td>\n",
       "      <td>3.541081e+01</td>\n",
       "      <td>9.668749e+01</td>\n",
       "      <td>8.737708e+00</td>\n",
       "      <td>4.295563e+01</td>\n",
       "      <td>1.894061e+09</td>\n",
       "      <td>7.229073e+02</td>\n",
       "      <td>1.701071e+03</td>\n",
       "      <td>2.887260e+00</td>\n",
       "      <td>4.571785e+01</td>\n",
       "      <td>2.453547e+03</td>\n",
       "      <td>5.270988e+00</td>\n",
       "    </tr>\n",
       "    <tr>\n",
       "      <th>std</th>\n",
       "      <td>0.0</td>\n",
       "      <td>5.700910e+02</td>\n",
       "      <td>6.013269e+05</td>\n",
       "      <td>5.660649e+06</td>\n",
       "      <td>1.080607e+04</td>\n",
       "      <td>3.053284e+02</td>\n",
       "      <td>5.020559e+01</td>\n",
       "      <td>8.577167e+00</td>\n",
       "      <td>2.311614e+02</td>\n",
       "      <td>1.638799e+00</td>\n",
       "      <td>4.941556e+01</td>\n",
       "      <td>9.308466e+09</td>\n",
       "      <td>9.166267e+02</td>\n",
       "      <td>1.323497e+03</td>\n",
       "      <td>3.805200e+00</td>\n",
       "      <td>6.382434e+01</td>\n",
       "      <td>3.053284e+02</td>\n",
       "      <td>1.544185e+00</td>\n",
       "    </tr>\n",
       "    <tr>\n",
       "      <th>min</th>\n",
       "      <td>23.0</td>\n",
       "      <td>4.000000e+01</td>\n",
       "      <td>1.000000e+00</td>\n",
       "      <td>1.607630e+09</td>\n",
       "      <td>0.000000e+00</td>\n",
       "      <td>2.412000e+03</td>\n",
       "      <td>0.000000e+00</td>\n",
       "      <td>3.000000e+01</td>\n",
       "      <td>0.000000e+00</td>\n",
       "      <td>0.000000e+00</td>\n",
       "      <td>0.000000e+00</td>\n",
       "      <td>0.000000e+00</td>\n",
       "      <td>0.000000e+00</td>\n",
       "      <td>0.000000e+00</td>\n",
       "      <td>1.000000e+00</td>\n",
       "      <td>1.000000e+00</td>\n",
       "      <td>2.412000e+03</td>\n",
       "      <td>4.000000e+00</td>\n",
       "    </tr>\n",
       "    <tr>\n",
       "      <th>25%</th>\n",
       "      <td>23.0</td>\n",
       "      <td>5.800000e+01</td>\n",
       "      <td>4.833662e+05</td>\n",
       "      <td>1.649644e+09</td>\n",
       "      <td>6.108736e+02</td>\n",
       "      <td>2.417000e+03</td>\n",
       "      <td>1.000000e+00</td>\n",
       "      <td>3.000000e+01</td>\n",
       "      <td>0.000000e+00</td>\n",
       "      <td>8.000000e+00</td>\n",
       "      <td>0.000000e+00</td>\n",
       "      <td>0.000000e+00</td>\n",
       "      <td>6.400000e+01</td>\n",
       "      <td>3.970000e+02</td>\n",
       "      <td>2.000000e+00</td>\n",
       "      <td>1.000000e+00</td>\n",
       "      <td>2.417000e+03</td>\n",
       "      <td>4.000000e+00</td>\n",
       "    </tr>\n",
       "    <tr>\n",
       "      <th>50%</th>\n",
       "      <td>23.0</td>\n",
       "      <td>1.300000e+02</td>\n",
       "      <td>9.838715e+05</td>\n",
       "      <td>1.649644e+09</td>\n",
       "      <td>1.268154e+03</td>\n",
       "      <td>2.417000e+03</td>\n",
       "      <td>1.000000e+00</td>\n",
       "      <td>3.000000e+01</td>\n",
       "      <td>0.000000e+00</td>\n",
       "      <td>8.000000e+00</td>\n",
       "      <td>0.000000e+00</td>\n",
       "      <td>0.000000e+00</td>\n",
       "      <td>4.000000e+02</td>\n",
       "      <td>1.627000e+03</td>\n",
       "      <td>2.000000e+00</td>\n",
       "      <td>1.000000e+00</td>\n",
       "      <td>2.417000e+03</td>\n",
       "      <td>4.000000e+00</td>\n",
       "    </tr>\n",
       "    <tr>\n",
       "      <th>75%</th>\n",
       "      <td>23.0</td>\n",
       "      <td>1.372000e+03</td>\n",
       "      <td>1.472181e+06</td>\n",
       "      <td>1.649882e+09</td>\n",
       "      <td>1.463817e+04</td>\n",
       "      <td>2.422000e+03</td>\n",
       "      <td>2.400000e+01</td>\n",
       "      <td>4.400000e+01</td>\n",
       "      <td>2.200000e+02</td>\n",
       "      <td>9.000000e+00</td>\n",
       "      <td>1.000000e+02</td>\n",
       "      <td>0.000000e+00</td>\n",
       "      <td>9.920000e+02</td>\n",
       "      <td>2.863000e+03</td>\n",
       "      <td>3.000000e+00</td>\n",
       "      <td>1.300000e+02</td>\n",
       "      <td>2.422000e+03</td>\n",
       "      <td>7.000000e+00</td>\n",
       "    </tr>\n",
       "    <tr>\n",
       "      <th>max</th>\n",
       "      <td>23.0</td>\n",
       "      <td>3.156000e+03</td>\n",
       "      <td>2.250000e+06</td>\n",
       "      <td>1.649903e+09</td>\n",
       "      <td>3.590963e+04</td>\n",
       "      <td>5.180000e+03</td>\n",
       "      <td>1.444440e+02</td>\n",
       "      <td>6.400000e+01</td>\n",
       "      <td>3.000000e+04</td>\n",
       "      <td>1.400000e+01</td>\n",
       "      <td>1.000000e+02</td>\n",
       "      <td>2.615290e+12</td>\n",
       "      <td>1.262400e+04</td>\n",
       "      <td>4.095000e+03</td>\n",
       "      <td>3.600000e+01</td>\n",
       "      <td>1.733330e+02</td>\n",
       "      <td>5.180000e+03</td>\n",
       "      <td>8.000000e+00</td>\n",
       "    </tr>\n",
       "  </tbody>\n",
       "</table>\n",
       "</div>"
      ],
      "text/plain": [
       "       frame.encap_type     frame.len  frame.number  frame.time_epoch  \\\n",
       "count         2644258.0  2.644258e+06  2.644258e+06      2.644258e+06   \n",
       "mean               23.0  4.957730e+02  9.973241e+05      1.648969e+09   \n",
       "std                 0.0  5.700910e+02  6.013269e+05      5.660649e+06   \n",
       "min                23.0  4.000000e+01  1.000000e+00      1.607630e+09   \n",
       "25%                23.0  5.800000e+01  4.833662e+05      1.649644e+09   \n",
       "50%                23.0  1.300000e+02  9.838715e+05      1.649644e+09   \n",
       "75%                23.0  1.372000e+03  1.472181e+06      1.649882e+09   \n",
       "max                23.0  3.156000e+03  2.250000e+06      1.649903e+09   \n",
       "\n",
       "       frame.time_relative  radiotap.channel.freq  radiotap.datarate  \\\n",
       "count         2.644258e+06           2.644258e+06       2.644258e+06   \n",
       "mean          8.086177e+03           2.453547e+03       2.762093e+01   \n",
       "std           1.080607e+04           3.053284e+02       5.020559e+01   \n",
       "min           0.000000e+00           2.412000e+03       0.000000e+00   \n",
       "25%           6.108736e+02           2.417000e+03       1.000000e+00   \n",
       "50%           1.268154e+03           2.417000e+03       1.000000e+00   \n",
       "75%           1.463817e+04           2.422000e+03       2.400000e+01   \n",
       "max           3.590963e+04           5.180000e+03       1.444440e+02   \n",
       "\n",
       "       radiotap.length  wlan.duration  wlan.fc.subtype  wlan.fixed.beacon  \\\n",
       "count     2.644258e+06   2.644258e+06     2.644258e+06       2.644258e+06   \n",
       "mean      3.541081e+01   9.668749e+01     8.737708e+00       4.295563e+01   \n",
       "std       8.577167e+00   2.311614e+02     1.638799e+00       4.941556e+01   \n",
       "min       3.000000e+01   0.000000e+00     0.000000e+00       0.000000e+00   \n",
       "25%       3.000000e+01   0.000000e+00     8.000000e+00       0.000000e+00   \n",
       "50%       3.000000e+01   0.000000e+00     8.000000e+00       0.000000e+00   \n",
       "75%       4.400000e+01   2.200000e+02     9.000000e+00       1.000000e+02   \n",
       "max       6.400000e+01   3.000000e+04     1.400000e+01       1.000000e+02   \n",
       "\n",
       "       wlan.fixed.timestamp  wlan_radio.duration      wlan.seq  \\\n",
       "count          2.644258e+06         2.644258e+06  2.644258e+06   \n",
       "mean           1.894061e+09         7.229073e+02  1.701071e+03   \n",
       "std            9.308466e+09         9.166267e+02  1.323497e+03   \n",
       "min            0.000000e+00         0.000000e+00  0.000000e+00   \n",
       "25%            0.000000e+00         6.400000e+01  3.970000e+02   \n",
       "50%            0.000000e+00         4.000000e+02  1.627000e+03   \n",
       "75%            0.000000e+00         9.920000e+02  2.863000e+03   \n",
       "max            2.615290e+12         1.262400e+04  4.095000e+03   \n",
       "\n",
       "       wlan_radio.channel  wlan_radio.data_rate  wlan_radio.frequency  \\\n",
       "count        2.644258e+06          2.644258e+06          2.644258e+06   \n",
       "mean         2.887260e+00          4.571785e+01          2.453547e+03   \n",
       "std          3.805200e+00          6.382434e+01          3.053284e+02   \n",
       "min          1.000000e+00          1.000000e+00          2.412000e+03   \n",
       "25%          2.000000e+00          1.000000e+00          2.417000e+03   \n",
       "50%          2.000000e+00          1.000000e+00          2.417000e+03   \n",
       "75%          3.000000e+00          1.300000e+02          2.422000e+03   \n",
       "max          3.600000e+01          1.733330e+02          5.180000e+03   \n",
       "\n",
       "       wlan_radio.phy  \n",
       "count    2.644258e+06  \n",
       "mean     5.270988e+00  \n",
       "std      1.544185e+00  \n",
       "min      4.000000e+00  \n",
       "25%      4.000000e+00  \n",
       "50%      4.000000e+00  \n",
       "75%      7.000000e+00  \n",
       "max      8.000000e+00  "
      ]
     },
     "execution_count": 29,
     "metadata": {},
     "output_type": "execute_result"
    }
   ],
   "source": [
    "X_test.describe()"
   ]
  },
  {
   "cell_type": "code",
   "execution_count": 30,
   "metadata": {},
   "outputs": [
    {
     "data": {
      "text/plain": [
       "Normal          1490307\n",
       "Beacon Flood     880932\n",
       "Deauth           247834\n",
       "RogueAP           16685\n",
       "Krack              5323\n",
       "Evil_Twin          3177\n",
       "Name: Label, dtype: int64"
      ]
     },
     "execution_count": 30,
     "metadata": {},
     "output_type": "execute_result"
    }
   ],
   "source": [
    "y_test.value_counts()"
   ]
  },
  {
   "cell_type": "markdown",
   "metadata": {},
   "source": [
    "<h2>Preprocessing  </h2> "
   ]
  },
  {
   "cell_type": "code",
   "execution_count": 31,
   "metadata": {},
   "outputs": [],
   "source": [
    "sc=StandardScaler()\n",
    "sc.fit(X_train)\n",
    "scaled_X_train=sc.transform(X_train)\n",
    "\n",
    "sc1=StandardScaler()\n",
    "sc1.fit(X_test)\n",
    "scaled_X_test=sc1.transform(X_test)"
   ]
  },
  {
   "cell_type": "code",
   "execution_count": 32,
   "metadata": {},
   "outputs": [
    {
     "name": "stdout",
     "output_type": "stream",
     "text": [
      "['frame.encap_type', 'frame.len', 'frame.number', 'frame.time_epoch', 'frame.time_relative', 'radiotap.channel.freq', 'radiotap.datarate', 'radiotap.length', 'wlan.duration', 'wlan.fc.subtype', 'wlan.fixed.beacon', 'wlan.fixed.timestamp', 'wlan_radio.duration', 'wlan.seq', 'wlan_radio.channel', 'wlan_radio.data_rate', 'wlan_radio.frequency', 'wlan_radio.phy']\n"
     ]
    }
   ],
   "source": [
    "\n",
    "print(list(X_train.columns))"
   ]
  },
  {
   "cell_type": "code",
   "execution_count": 33,
   "metadata": {},
   "outputs": [
    {
     "name": "stdout",
     "output_type": "stream",
     "text": [
      "[[ 0.         -0.76787656  0.51664532 ... -0.34036561 -0.12029873\n",
      "   0.47196157]\n",
      " [ 0.         -0.799449    1.88130695 ... -0.70079051 -0.12029873\n",
      "  -0.8235141 ]\n",
      " [ 0.         -0.1680002  -0.51747722 ... -0.70079051 -0.10401607\n",
      "  -0.8235141 ]\n",
      " ...\n",
      " [ 0.         -0.6415868  -1.39656425 ... -0.70079051 -0.10401607\n",
      "  -0.8235141 ]\n",
      " [ 0.         -0.6415868  -0.50020746 ... -0.70079051 -0.10401607\n",
      "  -0.8235141 ]\n",
      " [ 0.         -0.65211095 -1.41314415 ... -0.70079051 -0.10401607\n",
      "  -0.8235141 ]]\n",
      "float64\n"
     ]
    }
   ],
   "source": [
    "print(scaled_X_train)\n",
    "print(scaled_X_train.dtype)\n"
   ]
  },
  {
   "cell_type": "markdown",
   "metadata": {},
   "source": [
    "<h2>Encoding the label data</h2>"
   ]
  },
  {
   "cell_type": "code",
   "execution_count": 34,
   "metadata": {},
   "outputs": [],
   "source": [
    "encoder = LabelEncoder()\n",
    "encoded_y=encoder.fit_transform(y_train)\n",
    "enc_y_test=encoder.fit_transform(y_test)"
   ]
  },
  {
   "cell_type": "code",
   "execution_count": 35,
   "metadata": {},
   "outputs": [
    {
     "data": {
      "text/plain": [
       "array(['Beacon Flood', 'Deauth', 'Evil_Twin', 'Krack', 'Normal',\n",
       "       'RogueAP'], dtype=object)"
      ]
     },
     "execution_count": 35,
     "metadata": {},
     "output_type": "execute_result"
    }
   ],
   "source": [
    "encoder.classes_"
   ]
  },
  {
   "cell_type": "code",
   "execution_count": 36,
   "metadata": {},
   "outputs": [
    {
     "data": {
      "text/plain": [
       "array([4, 4, 4, ..., 0, 0, 0])"
      ]
     },
     "execution_count": 36,
     "metadata": {},
     "output_type": "execute_result"
    }
   ],
   "source": [
    "encoded_y"
   ]
  },
  {
   "cell_type": "code",
   "execution_count": null,
   "metadata": {},
   "outputs": [],
   "source": []
  },
  {
   "cell_type": "markdown",
   "metadata": {},
   "source": [
    "<h2>Classification Machine Learning Algorithm </h2>"
   ]
  },
  {
   "cell_type": "code",
   "execution_count": 44,
   "metadata": {},
   "outputs": [],
   "source": [
    "# from sklearn import metrics\n",
    "import sklearn.metrics as metrics\n",
    "from sklearn.metrics import ConfusionMatrixDisplay\n",
    "import matplotlib.pyplot as plt\n",
    "def model_accuracy(model):\n",
    "    y_preds=model.predict(X_test)\n",
    "    matrix = metrics.confusion_matrix(y_test, y_preds, labels=model.classes_)\n",
    "    ConfusionMatrixDisplay.from_predictions(y_test, y_preds, display_labels=model.classes_, xticks_rotation='vertical')\n",
    "    # disp = ConfusionMatrixDisplay(confusion_matrix=matrix, display_labels=model.classes_, xticks_rotation='vertical')\n",
    "    # disp.plot()\n",
    "    print(matrix)\n",
    "    return accuracy_score(y_test, y_preds)"
   ]
  },
  {
   "cell_type": "code",
   "execution_count": null,
   "metadata": {},
   "outputs": [],
   "source": [
    "#Doesnot perform well for multiclass classification Problem \n",
    "lr=LogisticRegression()\n",
    "lr.fit(X_train, y_train)\n",
    "acc = model_accuracy(lr)\n",
    "plt.savefig('lr_cm_new.eps')\n",
    "plt.show()\n",
    "print(acc)"
   ]
  },
  {
   "cell_type": "markdown",
   "metadata": {},
   "source": [
    "<h2>Some of the Best Algorithm for Classification Problem </h2>"
   ]
  },
  {
   "cell_type": "code",
   "execution_count": 45,
   "metadata": {},
   "outputs": [
    {
     "name": "stdout",
     "output_type": "stream",
     "text": [
      "[[ 880932       0       0       0       0       0]\n",
      " [      0  247834       0       0       0       0]\n",
      " [      0       0    3176       0       1       0]\n",
      " [      0       0       0    5323       0       0]\n",
      " [      0       4       3       1 1490299       0]\n",
      " [      0       0       0       0       0   16685]]\n"
     ]
    },
    {
     "data": {
      "image/png": "[encoded data removed]",
      "text/plain": [
       "<Figure size 432x288 with 2 Axes>"
      ]
     },
     "metadata": {
      "needs_background": "light"
     },
     "output_type": "display_data"
    },
    {
     "name": "stdout",
     "output_type": "stream",
     "text": [
      "0.9999965963986873\n"
     ]
    }
   ],
   "source": [
    "# Decision Tree Algorithm\n",
    "dtree=DecisionTreeClassifier()\n",
    "dtree.fit(X_train, y_train)\n",
    "acc = model_accuracy(dtree)\n",
    "plt.savefig('dtree_cm_new.eps')\n",
    "plt.show()\n",
    "print(acc)"
   ]
  },
  {
   "cell_type": "code",
   "execution_count": 46,
   "metadata": {},
   "outputs": [
    {
     "ename": "TypeError",
     "evalue": "from_predictions() missing 2 required positional arguments: 'y_true' and 'y_pred'",
     "output_type": "error",
     "traceback": [
      "\u001b[0;31m---------------------------------------------------------------------------\u001b[0m",
      "\u001b[0;31mTypeError\u001b[0m                                 Traceback (most recent call last)",
      "\u001b[0;32m/tmp/ipykernel_3086692/1924523946.py\u001b[0m in \u001b[0;36m<module>\u001b[0;34m\u001b[0m\n\u001b[1;32m      1\u001b[0m \u001b[0;32mimport\u001b[0m \u001b[0mmatplotlib\u001b[0m\u001b[0;34m.\u001b[0m\u001b[0mpyplot\u001b[0m \u001b[0;32mas\u001b[0m \u001b[0mplt\u001b[0m\u001b[0;34m\u001b[0m\u001b[0;34m\u001b[0m\u001b[0m\n\u001b[0;32m----> 2\u001b[0;31m \u001b[0mConfusionMatrixDisplay\u001b[0m\u001b[0;34m.\u001b[0m\u001b[0mfrom_predictions\u001b[0m\u001b[0;34m(\u001b[0m\u001b[0;34m)\u001b[0m\u001b[0;34m\u001b[0m\u001b[0;34m\u001b[0m\u001b[0m\n\u001b[0m",
      "\u001b[0;31mTypeError\u001b[0m: from_predictions() missing 2 required positional arguments: 'y_true' and 'y_pred'"
     ]
    }
   ],
   "source": [
    "import matplotlib.pyplot as plt\n",
    "ConfusionMatrixDisplay.from_predictions()"
   ]
  },
  {
   "cell_type": "code",
   "execution_count": null,
   "metadata": {},
   "outputs": [],
   "source": [
    "from sklearn import tree\n",
    "# tree.plot_tree(dtree)\n",
    "import graphviz \n",
    "dot_data = tree.export_graphviz(dtree, out_file=None, feature_names=list(X_train.columns), class_names=encoder.classes_, filled=True, rounded=True, special_characters=True) \n",
    "graph = graphviz.Source(dot_data) \n",
    "graph.render(\"tree\") "
   ]
  },
  {
   "cell_type": "code",
   "execution_count": 48,
   "metadata": {},
   "outputs": [
    {
     "name": "stdout",
     "output_type": "stream",
     "text": [
      "[[ 880932       0       0       0       0       0]\n",
      " [      0  247834       0       0       0       0]\n",
      " [      0       0    3175       0       2       0]\n",
      " [      0       0       0    5323       0       0]\n",
      " [      0       8       0       0 1490299       0]\n",
      " [      0       0       0       0       0   16685]]\n"
     ]
    },
    {
     "data": {
      "image/png": "[encoded data removed]",
      "text/plain": [
       "<Figure size 432x288 with 2 Axes>"
      ]
     },
     "metadata": {
      "needs_background": "light"
     },
     "output_type": "display_data"
    },
    {
     "name": "stdout",
     "output_type": "stream",
     "text": [
      "0.9999962182207637\n"
     ]
    }
   ],
   "source": [
    "#Random Forest Classifier \n",
    "forest=RandomForestClassifier()\n",
    "forest.fit(X_train,y_train)\n",
    "acc = model_accuracy(forest)\n",
    "plt.savefig('rf_cm_new.eps')\n",
    "plt.show()\n",
    "print(acc)"
   ]
  },
  {
   "cell_type": "code",
   "execution_count": null,
   "metadata": {},
   "outputs": [],
   "source": [
    "import joblib\n",
    "joblib.dump(forest, \"ids_rf.joblib\")"
   ]
  },
  {
   "cell_type": "code",
   "execution_count": null,
   "metadata": {},
   "outputs": [],
   "source": [
    "import matplotlib.pyplot as plt\n",
    "data = {'Logistic Regression': 0.7239393774784073, 'Decision Tree': 0.9868904702410053, 'Random Forest': 0.9998551433175802}\n",
    "# fig = plt.figure(figsize = (10, 5))\n",
    "plt.bar(list(data.keys()), list(data.values()), width=0.4)\n",
    "plt.xlabel('ML Classifiers')\n",
    "plt.ylabel('Accuracy')\n",
    "plt.savefig('accuracy.eps')\n",
    "plt.show()\n"
   ]
  },
  {
   "cell_type": "code",
   "execution_count": null,
   "metadata": {},
   "outputs": [],
   "source": [
    "from sklearn.model_selection import cross_val_score, cross_val_predict\n",
    "from sklearn.metrics import confusion_matrix\n"
   ]
  },
  {
   "cell_type": "markdown",
   "metadata": {},
   "source": [
    "<h2>Finding the True Positive, False Positive Rate for the Labels </h2>"
   ]
  },
  {
   "cell_type": "code",
   "execution_count": null,
   "metadata": {},
   "outputs": [],
   "source": [
    "# when we are training the model with the labels outcomes of 'normal'\n",
    "y_train_norm=(y_train == 'Normal')\n",
    "\n",
    "y_test_norm =(y_test =='Normal')"
   ]
  },
  {
   "cell_type": "code",
   "execution_count": null,
   "metadata": {},
   "outputs": [],
   "source": [
    "forest.fit(X_train,y_train_norm)"
   ]
  },
  {
   "cell_type": "code",
   "execution_count": null,
   "metadata": {},
   "outputs": [],
   "source": [
    "y_cross_acc=cross_val_score(forest,X_train, y_train_norm, cv=10, scoring=\"accuracy\")"
   ]
  },
  {
   "cell_type": "code",
   "execution_count": null,
   "metadata": {},
   "outputs": [],
   "source": [
    "y_cross_acc"
   ]
  },
  {
   "cell_type": "code",
   "execution_count": null,
   "metadata": {},
   "outputs": [],
   "source": [
    "y_preds_norm = cross_val_predict(forest, X_train,y_train_norm, cv=10)"
   ]
  },
  {
   "cell_type": "code",
   "execution_count": null,
   "metadata": {},
   "outputs": [],
   "source": [
    "y_preds_norm"
   ]
  },
  {
   "cell_type": "code",
   "execution_count": null,
   "metadata": {},
   "outputs": [],
   "source": [
    "confusion_matrix(y_train_norm, y_preds_norm)"
   ]
  },
  {
   "cell_type": "code",
   "execution_count": null,
   "metadata": {},
   "outputs": [],
   "source": [
    "#perfect precision and recall because both the value of prediction and actual are same\n",
    "y_perfect_norm=y_train_norm"
   ]
  },
  {
   "cell_type": "code",
   "execution_count": null,
   "metadata": {},
   "outputs": [],
   "source": [
    "confusion_matrix(y_train_norm, y_perfect_norm)"
   ]
  },
  {
   "cell_type": "code",
   "execution_count": null,
   "metadata": {},
   "outputs": [],
   "source": []
  },
  {
   "cell_type": "code",
   "execution_count": null,
   "metadata": {
    "scrolled": true
   },
   "outputs": [],
   "source": [
    "# WE WILL PREDICT THE HOW MANY ARE LABELLED 'INJECTION' ATTACK USING RANDOM FOREST\n",
    "y_train_inject=(y_train == 'Deauth')\n",
    "forest.fit(X_train,y_train_inject)"
   ]
  },
  {
   "cell_type": "code",
   "execution_count": null,
   "metadata": {},
   "outputs": [],
   "source": [
    "y_cross_inject=cross_val_score(forest,X_train, y_train_inject, cv=10, scoring=\"accuracy\")"
   ]
  },
  {
   "cell_type": "code",
   "execution_count": null,
   "metadata": {},
   "outputs": [],
   "source": [
    "y_cross_inject"
   ]
  },
  {
   "cell_type": "code",
   "execution_count": null,
   "metadata": {},
   "outputs": [],
   "source": [
    "y_preds_inject = cross_val_predict(forest, X_train,y_train_inject, cv=5)"
   ]
  },
  {
   "cell_type": "code",
   "execution_count": null,
   "metadata": {},
   "outputs": [],
   "source": [
    "y_preds_inject"
   ]
  },
  {
   "cell_type": "code",
   "execution_count": null,
   "metadata": {},
   "outputs": [],
   "source": [
    "confusion_matrix(y_train_inject, y_preds_inject)"
   ]
  },
  {
   "cell_type": "code",
   "execution_count": null,
   "metadata": {},
   "outputs": [],
   "source": []
  },
  {
   "cell_type": "code",
   "execution_count": null,
   "metadata": {},
   "outputs": [],
   "source": [
    "# Show TPR, FPR, TNR and TPR for the \"Impersonation \" attack using the Random Forest Algorithm\n",
    "y_train_imperson=(y_train == 'Evil_Twin')\n",
    "forest.fit(X_train,y_train_imperson)"
   ]
  },
  {
   "cell_type": "code",
   "execution_count": null,
   "metadata": {},
   "outputs": [],
   "source": [
    "y_cross_imperson=cross_val_score(forest,X_train, y_train_imperson, cv=10, scoring=\"accuracy\")"
   ]
  },
  {
   "cell_type": "code",
   "execution_count": null,
   "metadata": {},
   "outputs": [],
   "source": [
    "y_cross_imperson"
   ]
  },
  {
   "cell_type": "code",
   "execution_count": null,
   "metadata": {},
   "outputs": [],
   "source": [
    "y_preds_imperson = cross_val_predict(forest, X_train,y_train_imperson, cv=5)"
   ]
  },
  {
   "cell_type": "code",
   "execution_count": null,
   "metadata": {},
   "outputs": [],
   "source": [
    "y_preds_imperson"
   ]
  },
  {
   "cell_type": "code",
   "execution_count": null,
   "metadata": {},
   "outputs": [],
   "source": [
    "confusion_matrix(y_train_imperson, y_preds_imperson)"
   ]
  },
  {
   "cell_type": "code",
   "execution_count": null,
   "metadata": {},
   "outputs": [],
   "source": []
  },
  {
   "cell_type": "markdown",
   "metadata": {},
   "source": [
    "<h2>ROC_CURVE Graph for Random Forest Algorithm </h2>"
   ]
  },
  {
   "cell_type": "code",
   "execution_count": null,
   "metadata": {},
   "outputs": [],
   "source": [
    "y_score_forest=cross_val_predict(forest, X_train, y_train_norm, cv=10)"
   ]
  },
  {
   "cell_type": "code",
   "execution_count": null,
   "metadata": {},
   "outputs": [],
   "source": [
    "fpr, tpr, thresholds=roc_curve (y_train_norm, y_score_forest)"
   ]
  },
  {
   "cell_type": "code",
   "execution_count": null,
   "metadata": {},
   "outputs": [],
   "source": [
    "def plot_roc_curve(fpr, tpr):\n",
    "    plt.plot(fpr,tpr, linewidth=2)\n",
    "    plt.plot([0,1],[0,1],'k--')\n",
    "    plt.xlabel(\"False Positive Rate\")\n",
    "    plt.ylabel(\"True Positive rate (Recall)\")\n",
    "#     plt.legend(loc=\"upper right\")\n",
    "    \n"
   ]
  },
  {
   "cell_type": "code",
   "execution_count": null,
   "metadata": {
    "scrolled": true
   },
   "outputs": [],
   "source": [
    "plot_roc_curve(fpr,tpr)\n",
    "plt.savefig('rf_roc_auc.eps')\n",
    "plt.show()\n"
   ]
  },
  {
   "cell_type": "code",
   "execution_count": null,
   "metadata": {},
   "outputs": [],
   "source": [
    "roc_auc_score(y_train_norm, y_score_forest)"
   ]
  },
  {
   "cell_type": "markdown",
   "metadata": {},
   "source": [
    "<h2>ROC_CURVE Graph for Decision Tree </h2>"
   ]
  },
  {
   "cell_type": "code",
   "execution_count": null,
   "metadata": {},
   "outputs": [],
   "source": [
    "y_score_tree=cross_val_predict(dtree, X_train, y_train_norm, cv=10)"
   ]
  },
  {
   "cell_type": "code",
   "execution_count": null,
   "metadata": {},
   "outputs": [],
   "source": [
    "fpr1, tpr1,thresholds1 =roc_curve(y_train_norm,y_score_tree)"
   ]
  },
  {
   "cell_type": "code",
   "execution_count": null,
   "metadata": {},
   "outputs": [],
   "source": [
    "def plot_roc_curve(fpr, tpr):\n",
    "    plt.plot(fpr1,tpr1, linewidth=1)\n",
    "    plt.plot([0,1],[0,1],'k--')\n",
    "    plt.xlabel(\"False Positive Rate\")\n",
    "    plt.ylabel(\"True Positive rate (Recall)\")\n",
    "#     plt.legend(loc=\"upper right\")\n",
    "    \n"
   ]
  },
  {
   "cell_type": "code",
   "execution_count": null,
   "metadata": {},
   "outputs": [],
   "source": [
    "plot_roc_curve(fpr1,tpr1)\n",
    "plt.savefig('dt_roc_auc.eps')\n",
    "plt.show()\n"
   ]
  },
  {
   "cell_type": "code",
   "execution_count": null,
   "metadata": {},
   "outputs": [],
   "source": [
    "roc_auc_score(y_train_norm,y_score_tree)"
   ]
  },
  {
   "cell_type": "code",
   "execution_count": null,
   "metadata": {},
   "outputs": [],
   "source": [
    "fpr, tpr, thresholds, fpr1, tpr1, thresholds1"
   ]
  },
  {
   "cell_type": "code",
   "execution_count": null,
   "metadata": {},
   "outputs": [],
   "source": [
    "fpr1"
   ]
  }
 ],
 "metadata": {
  "kernelspec": {
   "display_name": "Python 3 (ipykernel)",
   "language": "python",
   "name": "python3"
  },
  "language_info": {
   "codemirror_mode": {
    "name": "ipython",
    "version": 3
   },
   "file_extension": ".py",
   "mimetype": "text/x-python",
   "name": "python",
   "nbconvert_exporter": "python",
   "pygments_lexer": "ipython3",
   "version": "3.9.7"
  }
 },
 "nbformat": 4,
 "nbformat_minor": 4
}
